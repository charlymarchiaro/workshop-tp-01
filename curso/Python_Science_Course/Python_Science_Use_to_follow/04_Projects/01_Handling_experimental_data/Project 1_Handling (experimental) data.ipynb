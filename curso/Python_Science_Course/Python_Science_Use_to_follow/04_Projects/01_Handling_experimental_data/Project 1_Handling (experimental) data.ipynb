{
 "cells": [
  {
   "cell_type": "markdown",
   "metadata": {},
   "source": [
    "### Project 1: Working with (experimental) data\n",
    "\n",
    "- Reading and exploring data with Pandas (Handle multiple Data files)\n",
    "- Plotting data\n",
    "- Transform tabular Data\n",
    "- Statistics\n",
    "- linear regression (Scipy)"
   ]
  },
  {
   "cell_type": "code",
   "execution_count": 6,
   "metadata": {},
   "outputs": [],
   "source": [
    "import os\n",
    "import pandas as pd\n",
    "import numpy as np\n",
    "import matplotlib.pyplot as plt"
   ]
  },
  {
   "cell_type": "code",
   "execution_count": 7,
   "metadata": {},
   "outputs": [],
   "source": [
    "## Import os to interact with the system: you can use function like dir(os)...\n"
   ]
  },
  {
   "cell_type": "markdown",
   "metadata": {},
   "source": [
    "### We will now have a look at two options to read our data\n",
    "\n",
    "1. Using Numpy loadtxt\n",
    "1. Using Pandas read_csv"
   ]
  },
  {
   "cell_type": "code",
   "execution_count": 9,
   "metadata": {},
   "outputs": [
    {
     "name": "stdout",
     "output_type": "stream",
     "text": [
      "[0.0, 0.0, 0.0, 0.0, 0.0, 0.0, 0.0, 0.0, 0.0, 0.0, 10.0, 10.0, 10.0, 10.0, 10.0, 10.0, 10.0, 10.0, 10.0, 10.0, 15.0, 15.0, 15.0, 15.0, 15.0, 15.0, 15.0, 15.0, 15.0, 15.0, 20.0, 20.0, 20.0, 20.0, 20.0, 20.0, 20.0, 20.0, 20.0, 20.0, 25.0, 25.0, 25.0, 25.0, 25.0, 25.0, 25.0, 25.0, 25.0, 25.0, 30.0, 30.0, 30.0, 30.0, 30.0, 30.0, 30.0, 30.0, 30.0, 30.0, 35.0, 35.0, 35.0, 35.0, 35.0, 35.0, 35.0, 35.0, 35.0, 35.0, 40.0, 40.0, 40.0, 40.0, 40.0, 40.0, 40.0, 40.0, 40.0, 40.0, 45.0, 45.0, 45.0, 45.0, 45.0, 45.0, 45.0, 45.0, 45.0, 45.0, 5.0, 5.0, 5.0, 5.0, 5.0, 5.0, 5.0, 5.0, 5.0, 5.0, 50.0, 50.0, 50.0, 50.0, 50.0, 50.0, 50.0, 50.0, 50.0, 50.0] [0.06615036286098933, 0.01785090104784562, 0.061639920018338186, 0.0735075916291141, 0.08728155769283605, 0.019281944614955804, 0.07103934778685297, 0.10112568826580494, 0.01204937360102, 0.05479927189505096, 0.04001419960173581, 0.036438279557490745, 0.0253401281630918, 0.011010586671364234, 0.04797762907714712, 0.016351360912803203, 0.04881285694368086, 0.014325505821011345, 0.04248096842121196, 0.03160173534853564, 0.01782284527480607, 0.02995981184048926, 0.020186315513245144, 0.02008449877535324, 0.01794649410157017, 0.010239524695794316, 0.03148011134322247, 0.007489369133192161, 0.011996067145296567, 0.020802188277911415, 0.018495535686686375, 0.011170607292078931, 0.010331104529204436, 0.005669961143666573, 0.018881100615046213, 0.013664987057786997, 0.014534265299395482, 0.009320381382381678, 0.014499242594341953, 0.009904868325127837, 0.006382844883298716, 0.005688194302458481, 0.006041567256372825, 0.0077391055478655425, 0.010169510441438493, 0.009381437178869264, 0.0022810437980898277, 0.005917557580791096, 0.009171638360325626, 0.009948793818411477, 0.006453195450386981, 0.006267081276293617, 0.009157407774561557, 0.005550079045705345, 0.008213423925496954, 0.012114230640900406, 0.008913415011505502, 0.0048521520199431584, 0.005418199784057755, 0.008743363177417841, 0.00446144410183324, 0.008784670132871871, 0.0031736975318053477, 0.008764935810776427, 0.01307213114282153, 0.004104202736863237, 0.012254148329993865, 0.0010085240810106541, 0.009691898171487514, 0.005611251564977083, 0.00677451592830085, 0.006934488979198101, 0.005819471987403243, 0.0059871728513720465, 0.007602477333927609, 0.007036113113752392, 0.00726274178117806, 0.008260231290439492, 0.007203993343049889, 0.006837094275351407, 0.003713291589367778, 0.002744308221917356, 0.005455440386628302, 0.0032130778633345245, 0.0055486348377981505, 0.007897773932133199, 0.003799031172653396, 0.005445903912951982, 0.006403063095564554, 0.008018061064501945, 0.0352697276058435, 0.039665945366630095, 0.03525508587109152, 0.04124909942494913, 0.0336276454662111, 0.0418208296309549, 0.04090209666538451, 0.030117556277515327, 0.03406227659015436, 0.03822983637917692, 0.005622667296813145, 0.005568199391990152, 0.004745699945388516, 0.004902702865205706, 0.00709657307874496, 0.005815264765302811, 0.007626965197511217, 0.005390977676780842, 0.0053640244395332295, 0.006887906794310969]\n"
     ]
    }
   ],
   "source": [
    "temperatures=[]\n",
    "resistance_data=[]\n",
    "\n",
    "for i, file in enumerate(os.listdir(os.getcwd())):\n",
    "    if not '.txt' in file: continue\n",
    "    data_file=np.loadtxt(file)\n",
    "    temperature = float(file.split('temp_')[1].split('_data')[0])\n",
    "    temperatures += [temperature]*data_file.shape[0]\n",
    "    resistance_data += list(data_file)\n",
    "    \n",
    "print(temperatures, resistance_data)"
   ]
  },
  {
   "cell_type": "code",
   "execution_count": 10,
   "metadata": {},
   "outputs": [],
   "source": [
    "df_data_experimental = pd.DataFrame()\n",
    "df_data_experimental['T'] = np.array(temperatures)+273.15\n",
    "df_data_experimental['R'] = resistance_data\n",
    "df_data_experimental.to_excel('df_data_experimental.xlsx')"
   ]
  },
  {
   "cell_type": "markdown",
   "metadata": {},
   "source": [
    "## Reading multiple files with pandas:\n",
    "1. read the files with pd.read_csv\n",
    "2. Use pd.concat to combine the Data in one Dataframe\n",
    "\n",
    "https://pandas.pydata.org/pandas-docs/stable/user_guide/cookbook.html#csv\n",
    "\n",
    "#### 1. select the files to read"
   ]
  },
  {
   "cell_type": "code",
   "execution_count": 11,
   "metadata": {},
   "outputs": [
    {
     "data": {
      "text/plain": [
       "['temp_0.0_data.txt',\n",
       " 'temp_10.0_data.txt',\n",
       " 'temp_15.0_data.txt',\n",
       " 'temp_20.0_data.txt',\n",
       " 'temp_25.0_data.txt',\n",
       " 'temp_30.0_data.txt',\n",
       " 'temp_35.0_data.txt',\n",
       " 'temp_40.0_data.txt',\n",
       " 'temp_45.0_data.txt',\n",
       " 'temp_5.0_data.txt',\n",
       " 'temp_50.0_data.txt']"
      ]
     },
     "execution_count": 11,
     "metadata": {},
     "output_type": "execute_result"
    }
   ],
   "source": [
    "import glob\n",
    "files=glob.glob('temp_*.txt')\n",
    "files"
   ]
  },
  {
   "cell_type": "markdown",
   "metadata": {},
   "source": [
    "#### Now we will combine the resistance Data with concat!"
   ]
  },
  {
   "cell_type": "code",
   "execution_count": 15,
   "metadata": {},
   "outputs": [
    {
     "data": {
      "text/html": [
       "<div>\n",
       "<style scoped>\n",
       "    .dataframe tbody tr th:only-of-type {\n",
       "        vertical-align: middle;\n",
       "    }\n",
       "\n",
       "    .dataframe tbody tr th {\n",
       "        vertical-align: top;\n",
       "    }\n",
       "\n",
       "    .dataframe thead th {\n",
       "        text-align: right;\n",
       "    }\n",
       "</style>\n",
       "<table border=\"1\" class=\"dataframe\">\n",
       "  <thead>\n",
       "    <tr style=\"text-align: right;\">\n",
       "      <th></th>\n",
       "      <th>R</th>\n",
       "      <th>T</th>\n",
       "    </tr>\n",
       "  </thead>\n",
       "  <tbody>\n",
       "    <tr>\n",
       "      <th>0</th>\n",
       "      <td>0.066150</td>\n",
       "      <td>0.0</td>\n",
       "    </tr>\n",
       "    <tr>\n",
       "      <th>1</th>\n",
       "      <td>0.017851</td>\n",
       "      <td>0.0</td>\n",
       "    </tr>\n",
       "    <tr>\n",
       "      <th>2</th>\n",
       "      <td>0.061640</td>\n",
       "      <td>0.0</td>\n",
       "    </tr>\n",
       "    <tr>\n",
       "      <th>3</th>\n",
       "      <td>0.073508</td>\n",
       "      <td>0.0</td>\n",
       "    </tr>\n",
       "    <tr>\n",
       "      <th>4</th>\n",
       "      <td>0.087282</td>\n",
       "      <td>0.0</td>\n",
       "    </tr>\n",
       "    <tr>\n",
       "      <th>...</th>\n",
       "      <td>...</td>\n",
       "      <td>...</td>\n",
       "    </tr>\n",
       "    <tr>\n",
       "      <th>105</th>\n",
       "      <td>0.005815</td>\n",
       "      <td>50.0</td>\n",
       "    </tr>\n",
       "    <tr>\n",
       "      <th>106</th>\n",
       "      <td>0.007627</td>\n",
       "      <td>50.0</td>\n",
       "    </tr>\n",
       "    <tr>\n",
       "      <th>107</th>\n",
       "      <td>0.005391</td>\n",
       "      <td>50.0</td>\n",
       "    </tr>\n",
       "    <tr>\n",
       "      <th>108</th>\n",
       "      <td>0.005364</td>\n",
       "      <td>50.0</td>\n",
       "    </tr>\n",
       "    <tr>\n",
       "      <th>109</th>\n",
       "      <td>0.006888</td>\n",
       "      <td>50.0</td>\n",
       "    </tr>\n",
       "  </tbody>\n",
       "</table>\n",
       "<p>110 rows × 2 columns</p>\n",
       "</div>"
      ],
      "text/plain": [
       "            R     T\n",
       "0    0.066150   0.0\n",
       "1    0.017851   0.0\n",
       "2    0.061640   0.0\n",
       "3    0.073508   0.0\n",
       "4    0.087282   0.0\n",
       "..        ...   ...\n",
       "105  0.005815  50.0\n",
       "106  0.007627  50.0\n",
       "107  0.005391  50.0\n",
       "108  0.005364  50.0\n",
       "109  0.006888  50.0\n",
       "\n",
       "[110 rows x 2 columns]"
      ]
     },
     "execution_count": 15,
     "metadata": {},
     "output_type": "execute_result"
    }
   ],
   "source": [
    "result = pd.concat([pd.read_csv(f, names=['R']) for f in files], ignore_index=True)\n",
    "result\n",
    "\n",
    "temperatures=[]\n",
    "for f in files:\n",
    "    temperature = float(f.split('temp_')[1].split('_data')[0])\n",
    "    temperatures += [temperature]*data_file.shape[0]\n",
    "temperatures\n",
    "result['T']=temperatures\n",
    "del(temperature)\n",
    "result"
   ]
  },
  {
   "cell_type": "markdown",
   "metadata": {},
   "source": [
    "### Now lets explore our Data a bit!"
   ]
  },
  {
   "cell_type": "code",
   "execution_count": 16,
   "metadata": {},
   "outputs": [
    {
     "data": {
      "text/plain": [
       "R    float64\n",
       "T    float64\n",
       "dtype: object"
      ]
     },
     "execution_count": 16,
     "metadata": {},
     "output_type": "execute_result"
    }
   ],
   "source": [
    "result.dtypes"
   ]
  },
  {
   "cell_type": "code",
   "execution_count": 17,
   "metadata": {},
   "outputs": [
    {
     "data": {
      "text/html": [
       "<div>\n",
       "<style scoped>\n",
       "    .dataframe tbody tr th:only-of-type {\n",
       "        vertical-align: middle;\n",
       "    }\n",
       "\n",
       "    .dataframe tbody tr th {\n",
       "        vertical-align: top;\n",
       "    }\n",
       "\n",
       "    .dataframe thead th {\n",
       "        text-align: right;\n",
       "    }\n",
       "</style>\n",
       "<table border=\"1\" class=\"dataframe\">\n",
       "  <thead>\n",
       "    <tr style=\"text-align: right;\">\n",
       "      <th></th>\n",
       "      <th>R</th>\n",
       "      <th>T</th>\n",
       "    </tr>\n",
       "  </thead>\n",
       "  <tbody>\n",
       "    <tr>\n",
       "      <th>0</th>\n",
       "      <td>0.066150</td>\n",
       "      <td>0.0</td>\n",
       "    </tr>\n",
       "    <tr>\n",
       "      <th>1</th>\n",
       "      <td>0.017851</td>\n",
       "      <td>0.0</td>\n",
       "    </tr>\n",
       "    <tr>\n",
       "      <th>2</th>\n",
       "      <td>0.061640</td>\n",
       "      <td>0.0</td>\n",
       "    </tr>\n",
       "    <tr>\n",
       "      <th>3</th>\n",
       "      <td>0.073508</td>\n",
       "      <td>0.0</td>\n",
       "    </tr>\n",
       "    <tr>\n",
       "      <th>4</th>\n",
       "      <td>0.087282</td>\n",
       "      <td>0.0</td>\n",
       "    </tr>\n",
       "    <tr>\n",
       "      <th>5</th>\n",
       "      <td>0.019282</td>\n",
       "      <td>0.0</td>\n",
       "    </tr>\n",
       "    <tr>\n",
       "      <th>6</th>\n",
       "      <td>0.071039</td>\n",
       "      <td>0.0</td>\n",
       "    </tr>\n",
       "    <tr>\n",
       "      <th>7</th>\n",
       "      <td>0.101126</td>\n",
       "      <td>0.0</td>\n",
       "    </tr>\n",
       "  </tbody>\n",
       "</table>\n",
       "</div>"
      ],
      "text/plain": [
       "          R    T\n",
       "0  0.066150  0.0\n",
       "1  0.017851  0.0\n",
       "2  0.061640  0.0\n",
       "3  0.073508  0.0\n",
       "4  0.087282  0.0\n",
       "5  0.019282  0.0\n",
       "6  0.071039  0.0\n",
       "7  0.101126  0.0"
      ]
     },
     "execution_count": 17,
     "metadata": {},
     "output_type": "execute_result"
    }
   ],
   "source": [
    "result.head(8)"
   ]
  },
  {
   "cell_type": "code",
   "execution_count": 18,
   "metadata": {},
   "outputs": [
    {
     "data": {
      "text/html": [
       "<div>\n",
       "<style scoped>\n",
       "    .dataframe tbody tr th:only-of-type {\n",
       "        vertical-align: middle;\n",
       "    }\n",
       "\n",
       "    .dataframe tbody tr th {\n",
       "        vertical-align: top;\n",
       "    }\n",
       "\n",
       "    .dataframe thead th {\n",
       "        text-align: right;\n",
       "    }\n",
       "</style>\n",
       "<table border=\"1\" class=\"dataframe\">\n",
       "  <thead>\n",
       "    <tr style=\"text-align: right;\">\n",
       "      <th></th>\n",
       "      <th>R</th>\n",
       "      <th>T</th>\n",
       "    </tr>\n",
       "  </thead>\n",
       "  <tbody>\n",
       "    <tr>\n",
       "      <th>107</th>\n",
       "      <td>0.005391</td>\n",
       "      <td>50.0</td>\n",
       "    </tr>\n",
       "    <tr>\n",
       "      <th>108</th>\n",
       "      <td>0.005364</td>\n",
       "      <td>50.0</td>\n",
       "    </tr>\n",
       "    <tr>\n",
       "      <th>109</th>\n",
       "      <td>0.006888</td>\n",
       "      <td>50.0</td>\n",
       "    </tr>\n",
       "  </tbody>\n",
       "</table>\n",
       "</div>"
      ],
      "text/plain": [
       "            R     T\n",
       "107  0.005391  50.0\n",
       "108  0.005364  50.0\n",
       "109  0.006888  50.0"
      ]
     },
     "execution_count": 18,
     "metadata": {},
     "output_type": "execute_result"
    }
   ],
   "source": [
    "result.tail(3)"
   ]
  },
  {
   "cell_type": "code",
   "execution_count": 19,
   "metadata": {},
   "outputs": [
    {
     "name": "stdout",
     "output_type": "stream",
     "text": [
      "<class 'pandas.core.frame.DataFrame'>\n",
      "RangeIndex: 110 entries, 0 to 109\n",
      "Data columns (total 2 columns):\n",
      " #   Column  Non-Null Count  Dtype  \n",
      "---  ------  --------------  -----  \n",
      " 0   R       110 non-null    float64\n",
      " 1   T       110 non-null    float64\n",
      "dtypes: float64(2)\n",
      "memory usage: 1.8 KB\n"
     ]
    }
   ],
   "source": [
    "result.info()"
   ]
  },
  {
   "cell_type": "code",
   "execution_count": 20,
   "metadata": {},
   "outputs": [
    {
     "data": {
      "text/html": [
       "<div>\n",
       "<style scoped>\n",
       "    .dataframe tbody tr th:only-of-type {\n",
       "        vertical-align: middle;\n",
       "    }\n",
       "\n",
       "    .dataframe tbody tr th {\n",
       "        vertical-align: top;\n",
       "    }\n",
       "\n",
       "    .dataframe thead th {\n",
       "        text-align: right;\n",
       "    }\n",
       "</style>\n",
       "<table border=\"1\" class=\"dataframe\">\n",
       "  <thead>\n",
       "    <tr style=\"text-align: right;\">\n",
       "      <th></th>\n",
       "      <th>R</th>\n",
       "      <th>T</th>\n",
       "    </tr>\n",
       "  </thead>\n",
       "  <tbody>\n",
       "    <tr>\n",
       "      <th>count</th>\n",
       "      <td>110.000000</td>\n",
       "      <td>110.000000</td>\n",
       "    </tr>\n",
       "    <tr>\n",
       "      <th>mean</th>\n",
       "      <td>0.017855</td>\n",
       "      <td>25.000000</td>\n",
       "    </tr>\n",
       "    <tr>\n",
       "      <th>std</th>\n",
       "      <td>0.019053</td>\n",
       "      <td>15.883752</td>\n",
       "    </tr>\n",
       "    <tr>\n",
       "      <th>min</th>\n",
       "      <td>0.001009</td>\n",
       "      <td>0.000000</td>\n",
       "    </tr>\n",
       "    <tr>\n",
       "      <th>25%</th>\n",
       "      <td>0.006001</td>\n",
       "      <td>10.000000</td>\n",
       "    </tr>\n",
       "    <tr>\n",
       "      <th>50%</th>\n",
       "      <td>0.009246</td>\n",
       "      <td>25.000000</td>\n",
       "    </tr>\n",
       "    <tr>\n",
       "      <th>75%</th>\n",
       "      <td>0.020161</td>\n",
       "      <td>40.000000</td>\n",
       "    </tr>\n",
       "    <tr>\n",
       "      <th>max</th>\n",
       "      <td>0.101126</td>\n",
       "      <td>50.000000</td>\n",
       "    </tr>\n",
       "  </tbody>\n",
       "</table>\n",
       "</div>"
      ],
      "text/plain": [
       "                R           T\n",
       "count  110.000000  110.000000\n",
       "mean     0.017855   25.000000\n",
       "std      0.019053   15.883752\n",
       "min      0.001009    0.000000\n",
       "25%      0.006001   10.000000\n",
       "50%      0.009246   25.000000\n",
       "75%      0.020161   40.000000\n",
       "max      0.101126   50.000000"
      ]
     },
     "execution_count": 20,
     "metadata": {},
     "output_type": "execute_result"
    }
   ],
   "source": [
    "result.describe()"
   ]
  },
  {
   "cell_type": "markdown",
   "metadata": {},
   "source": [
    "### Plotting the Data"
   ]
  },
  {
   "cell_type": "code",
   "execution_count": 22,
   "metadata": {},
   "outputs": [
    {
     "data": {
      "image/png": "[encoded data removed]",
      "text/plain": [
       "<Figure size 432x288 with 1 Axes>"
      ]
     },
     "metadata": {
      "needs_background": "light"
     },
     "output_type": "display_data"
    }
   ],
   "source": [
    "plt.scatter(result['T'], result['R'], marker='x', label='original Data')\n",
    "plt.xlabel('T/°C')\n",
    "plt.ylabel('R/Ohm')\n",
    "plt.legend()\n",
    "plt.show()"
   ]
  },
  {
   "cell_type": "markdown",
   "metadata": {},
   "source": [
    "### Filter the Data\n",
    "\n",
    "If you have unwanted data points you have to filter your data"
   ]
  },
  {
   "cell_type": "code",
   "execution_count": 24,
   "metadata": {},
   "outputs": [
    {
     "data": {
      "text/html": [
       "<div>\n",
       "<style scoped>\n",
       "    .dataframe tbody tr th:only-of-type {\n",
       "        vertical-align: middle;\n",
       "    }\n",
       "\n",
       "    .dataframe tbody tr th {\n",
       "        vertical-align: top;\n",
       "    }\n",
       "\n",
       "    .dataframe thead th {\n",
       "        text-align: right;\n",
       "    }\n",
       "</style>\n",
       "<table border=\"1\" class=\"dataframe\">\n",
       "  <thead>\n",
       "    <tr style=\"text-align: right;\">\n",
       "      <th></th>\n",
       "      <th>R</th>\n",
       "      <th>T</th>\n",
       "    </tr>\n",
       "  </thead>\n",
       "  <tbody>\n",
       "    <tr>\n",
       "      <th>0</th>\n",
       "      <td>0.066150</td>\n",
       "      <td>0.0</td>\n",
       "    </tr>\n",
       "    <tr>\n",
       "      <th>1</th>\n",
       "      <td>0.017851</td>\n",
       "      <td>0.0</td>\n",
       "    </tr>\n",
       "    <tr>\n",
       "      <th>2</th>\n",
       "      <td>0.061640</td>\n",
       "      <td>0.0</td>\n",
       "    </tr>\n",
       "    <tr>\n",
       "      <th>3</th>\n",
       "      <td>0.073508</td>\n",
       "      <td>0.0</td>\n",
       "    </tr>\n",
       "    <tr>\n",
       "      <th>4</th>\n",
       "      <td>0.087282</td>\n",
       "      <td>0.0</td>\n",
       "    </tr>\n",
       "    <tr>\n",
       "      <th>...</th>\n",
       "      <td>...</td>\n",
       "      <td>...</td>\n",
       "    </tr>\n",
       "    <tr>\n",
       "      <th>105</th>\n",
       "      <td>0.005815</td>\n",
       "      <td>50.0</td>\n",
       "    </tr>\n",
       "    <tr>\n",
       "      <th>106</th>\n",
       "      <td>0.007627</td>\n",
       "      <td>50.0</td>\n",
       "    </tr>\n",
       "    <tr>\n",
       "      <th>107</th>\n",
       "      <td>0.005391</td>\n",
       "      <td>50.0</td>\n",
       "    </tr>\n",
       "    <tr>\n",
       "      <th>108</th>\n",
       "      <td>0.005364</td>\n",
       "      <td>50.0</td>\n",
       "    </tr>\n",
       "    <tr>\n",
       "      <th>109</th>\n",
       "      <td>0.006888</td>\n",
       "      <td>50.0</td>\n",
       "    </tr>\n",
       "  </tbody>\n",
       "</table>\n",
       "<p>110 rows × 2 columns</p>\n",
       "</div>"
      ],
      "text/plain": [
       "            R     T\n",
       "0    0.066150   0.0\n",
       "1    0.017851   0.0\n",
       "2    0.061640   0.0\n",
       "3    0.073508   0.0\n",
       "4    0.087282   0.0\n",
       "..        ...   ...\n",
       "105  0.005815  50.0\n",
       "106  0.007627  50.0\n",
       "107  0.005391  50.0\n",
       "108  0.005364  50.0\n",
       "109  0.006888  50.0\n",
       "\n",
       "[110 rows x 2 columns]"
      ]
     },
     "execution_count": 24,
     "metadata": {},
     "output_type": "execute_result"
    }
   ],
   "source": [
    "result = result[result['R']>=0.]\n",
    "result"
   ]
  },
  {
   "cell_type": "markdown",
   "metadata": {},
   "source": [
    "### Now we are ready to do calculations with our data\n",
    "\n",
    "1. First we need the temperature in kelvin (add +273.15)"
   ]
  },
  {
   "cell_type": "code",
   "execution_count": 25,
   "metadata": {},
   "outputs": [
    {
     "data": {
      "text/html": [
       "<div>\n",
       "<style scoped>\n",
       "    .dataframe tbody tr th:only-of-type {\n",
       "        vertical-align: middle;\n",
       "    }\n",
       "\n",
       "    .dataframe tbody tr th {\n",
       "        vertical-align: top;\n",
       "    }\n",
       "\n",
       "    .dataframe thead th {\n",
       "        text-align: right;\n",
       "    }\n",
       "</style>\n",
       "<table border=\"1\" class=\"dataframe\">\n",
       "  <thead>\n",
       "    <tr style=\"text-align: right;\">\n",
       "      <th></th>\n",
       "      <th>R</th>\n",
       "      <th>T</th>\n",
       "    </tr>\n",
       "  </thead>\n",
       "  <tbody>\n",
       "    <tr>\n",
       "      <th>0</th>\n",
       "      <td>0.066150</td>\n",
       "      <td>273.15</td>\n",
       "    </tr>\n",
       "    <tr>\n",
       "      <th>1</th>\n",
       "      <td>0.017851</td>\n",
       "      <td>273.15</td>\n",
       "    </tr>\n",
       "    <tr>\n",
       "      <th>2</th>\n",
       "      <td>0.061640</td>\n",
       "      <td>273.15</td>\n",
       "    </tr>\n",
       "    <tr>\n",
       "      <th>3</th>\n",
       "      <td>0.073508</td>\n",
       "      <td>273.15</td>\n",
       "    </tr>\n",
       "    <tr>\n",
       "      <th>4</th>\n",
       "      <td>0.087282</td>\n",
       "      <td>273.15</td>\n",
       "    </tr>\n",
       "    <tr>\n",
       "      <th>...</th>\n",
       "      <td>...</td>\n",
       "      <td>...</td>\n",
       "    </tr>\n",
       "    <tr>\n",
       "      <th>105</th>\n",
       "      <td>0.005815</td>\n",
       "      <td>323.15</td>\n",
       "    </tr>\n",
       "    <tr>\n",
       "      <th>106</th>\n",
       "      <td>0.007627</td>\n",
       "      <td>323.15</td>\n",
       "    </tr>\n",
       "    <tr>\n",
       "      <th>107</th>\n",
       "      <td>0.005391</td>\n",
       "      <td>323.15</td>\n",
       "    </tr>\n",
       "    <tr>\n",
       "      <th>108</th>\n",
       "      <td>0.005364</td>\n",
       "      <td>323.15</td>\n",
       "    </tr>\n",
       "    <tr>\n",
       "      <th>109</th>\n",
       "      <td>0.006888</td>\n",
       "      <td>323.15</td>\n",
       "    </tr>\n",
       "  </tbody>\n",
       "</table>\n",
       "<p>110 rows × 2 columns</p>\n",
       "</div>"
      ],
      "text/plain": [
       "            R       T\n",
       "0    0.066150  273.15\n",
       "1    0.017851  273.15\n",
       "2    0.061640  273.15\n",
       "3    0.073508  273.15\n",
       "4    0.087282  273.15\n",
       "..        ...     ...\n",
       "105  0.005815  323.15\n",
       "106  0.007627  323.15\n",
       "107  0.005391  323.15\n",
       "108  0.005364  323.15\n",
       "109  0.006888  323.15\n",
       "\n",
       "[110 rows x 2 columns]"
      ]
     },
     "execution_count": 25,
     "metadata": {},
     "output_type": "execute_result"
    }
   ],
   "source": [
    "result['T'] =result['T'] +273.15\n",
    "result"
   ]
  },
  {
   "cell_type": "markdown",
   "metadata": {},
   "source": [
    "### Statistics"
   ]
  },
  {
   "cell_type": "code",
   "execution_count": 29,
   "metadata": {},
   "outputs": [
    {
     "data": {
      "text/html": [
       "<div>\n",
       "<style scoped>\n",
       "    .dataframe tbody tr th:only-of-type {\n",
       "        vertical-align: middle;\n",
       "    }\n",
       "\n",
       "    .dataframe tbody tr th {\n",
       "        vertical-align: top;\n",
       "    }\n",
       "\n",
       "    .dataframe thead th {\n",
       "        text-align: right;\n",
       "    }\n",
       "</style>\n",
       "<table border=\"1\" class=\"dataframe\">\n",
       "  <thead>\n",
       "    <tr style=\"text-align: right;\">\n",
       "      <th></th>\n",
       "      <th>T</th>\n",
       "      <th>R</th>\n",
       "    </tr>\n",
       "  </thead>\n",
       "  <tbody>\n",
       "    <tr>\n",
       "      <th>0</th>\n",
       "      <td>273.15</td>\n",
       "      <td>0.056473</td>\n",
       "    </tr>\n",
       "    <tr>\n",
       "      <th>1</th>\n",
       "      <td>278.15</td>\n",
       "      <td>0.037020</td>\n",
       "    </tr>\n",
       "    <tr>\n",
       "      <th>2</th>\n",
       "      <td>283.15</td>\n",
       "      <td>0.031435</td>\n",
       "    </tr>\n",
       "    <tr>\n",
       "      <th>3</th>\n",
       "      <td>288.15</td>\n",
       "      <td>0.018801</td>\n",
       "    </tr>\n",
       "    <tr>\n",
       "      <th>4</th>\n",
       "      <td>293.15</td>\n",
       "      <td>0.012647</td>\n",
       "    </tr>\n",
       "    <tr>\n",
       "      <th>5</th>\n",
       "      <td>298.15</td>\n",
       "      <td>0.007272</td>\n",
       "    </tr>\n",
       "    <tr>\n",
       "      <th>6</th>\n",
       "      <td>303.15</td>\n",
       "      <td>0.007568</td>\n",
       "    </tr>\n",
       "    <tr>\n",
       "      <th>7</th>\n",
       "      <td>308.15</td>\n",
       "      <td>0.007093</td>\n",
       "    </tr>\n",
       "    <tr>\n",
       "      <th>8</th>\n",
       "      <td>313.15</td>\n",
       "      <td>0.006972</td>\n",
       "    </tr>\n",
       "    <tr>\n",
       "      <th>9</th>\n",
       "      <td>318.15</td>\n",
       "      <td>0.005224</td>\n",
       "    </tr>\n",
       "    <tr>\n",
       "      <th>10</th>\n",
       "      <td>323.15</td>\n",
       "      <td>0.005902</td>\n",
       "    </tr>\n",
       "  </tbody>\n",
       "</table>\n",
       "</div>"
      ],
      "text/plain": [
       "         T         R\n",
       "0   273.15  0.056473\n",
       "1   278.15  0.037020\n",
       "2   283.15  0.031435\n",
       "3   288.15  0.018801\n",
       "4   293.15  0.012647\n",
       "5   298.15  0.007272\n",
       "6   303.15  0.007568\n",
       "7   308.15  0.007093\n",
       "8   313.15  0.006972\n",
       "9   318.15  0.005224\n",
       "10  323.15  0.005902"
      ]
     },
     "execution_count": 29,
     "metadata": {},
     "output_type": "execute_result"
    }
   ],
   "source": [
    "df_means=result.groupby(['T'], as_index=False).mean()\n",
    "df_errors=result.groupby(['T']).std()\n",
    "df_means"
   ]
  },
  {
   "cell_type": "code",
   "execution_count": 43,
   "metadata": {},
   "outputs": [
    {
     "data": {
      "text/plain": [
       "(0, 0.09)"
      ]
     },
     "execution_count": 43,
     "metadata": {},
     "output_type": "execute_result"
    },
    {
     "data": {
      "image/png": "[encoded data removed]",
      "text/plain": [
       "<Figure size 504x360 with 1 Axes>"
      ]
     },
     "metadata": {
      "needs_background": "light"
     },
     "output_type": "display_data"
    }
   ],
   "source": [
    "from matplotlib.patches import Rectangle, FancyArrow\n",
    "from matplotlib.collections import PatchCollection\n",
    "\n",
    "fig, ax =  plt.subplots(figsize=(7,5))\n",
    "rect=Rectangle((293.15,0.0),20, 0.09)\n",
    "arrow=FancyArrow(293.15, 0.03, 20, 0.0, width = 0.001, head_length=0)\n",
    "pc= PatchCollection([rect], alpha=0.2)\n",
    "ax.add_collection(pc)\n",
    "ax.add_patch(arrow)\n",
    "\n",
    "plt.errorbar(df_means['T'], df_means['R'], df_errors['R'], marker='x', label='battery 1')\n",
    "plt.xlabel('T/K')\n",
    "plt.ylabel('R/$\\Omega$')\n",
    "plt.legend(title='measured Battery')\n",
    "plt.title('Battery resistance over Temperature')\n",
    "plt.savefig('battery_resistance.pdf')\n",
    "plt.text(295.15, 0.04, 'Working range')\n",
    "plt.ylim(0,0.09)"
   ]
  },
  {
   "cell_type": "markdown",
   "metadata": {},
   "source": [
    "Now it is time to prepare the data for linear regression"
   ]
  },
  {
   "cell_type": "code",
   "execution_count": 44,
   "metadata": {
    "scrolled": true
   },
   "outputs": [
    {
     "data": {
      "image/png": "[encoded data removed]",
      "text/plain": [
       "<Figure size 432x288 with 1 Axes>"
      ]
     },
     "metadata": {
      "needs_background": "light"
     },
     "output_type": "display_data"
    }
   ],
   "source": [
    "df_means['1/T']=1./df_means['T']\n",
    "df_means['ln_R'] = np.log(df_means['R'])\n",
    "df_means.plot.scatter('1/T','ln_R')\n",
    "plt.xlim(df_means['1/T'].min()-0.0001, df_means['1/T'].max()+0.0001 )\n",
    "plt.show()"
   ]
  },
  {
   "cell_type": "code",
   "execution_count": 47,
   "metadata": {},
   "outputs": [
    {
     "data": {
      "image/png": "[encoded data removed]",
      "text/plain": [
       "<Figure size 432x288 with 1 Axes>"
      ]
     },
     "metadata": {
      "needs_background": "light"
     },
     "output_type": "display_data"
    },
    {
     "name": "stdout",
     "output_type": "stream",
     "text": [
      "Coefficients: \n",
      " [[4250.88956806]]\n",
      "Coefficient of determination: 0.91\n"
     ]
    }
   ],
   "source": [
    "from sklearn import datasets, linear_model\n",
    "from sklearn.metrics import mean_squared_error, r2_score\n",
    "lr=linear_model.LinearRegression()\n",
    "\n",
    "lr.fit(df_means['1/T'].values.reshape(-1,1), df_means['ln_R'].values.reshape(-1,1))\n",
    "c=lr.coef_[0]\n",
    "t=lr.intercept_\n",
    "r2_value=lr.score(df_means['1/T'].rename_axis('1/T').values.reshape(-1,1), df_means['ln_R'].rename_axis('ln_R').values.reshape(-1,1))\n",
    "\n",
    "df_means.plot('1/T','ln_R', kind='scatter')\n",
    "plt.plot( (df_means['1/T'].min(),df_means['1/T'].max()), (df_means['1/T'].min()*c+t,df_means['1/T'].max()*c+t) )\n",
    "plt.xlim(df_means['1/T'].min()-0.0001,df_means['1/T'].max()+0.0001)\n",
    "plt.show()\n",
    "\n",
    "\n",
    "# The coefficients\n",
    "print('Coefficients: \\n', lr.coef_)\n",
    "# The coefficient of determination: 1 is perfect prediction\n",
    "print('Coefficient of determination: %.2f'\n",
    "      % r2_value)"
   ]
  },
  {
   "cell_type": "code",
   "execution_count": null,
   "metadata": {},
   "outputs": [],
   "source": []
  },
  {
   "cell_type": "code",
   "execution_count": null,
   "metadata": {},
   "outputs": [],
   "source": []
  }
 ],
 "metadata": {
  "kernelspec": {
   "display_name": "Python 3",
   "language": "python",
   "name": "python3"
  },
  "language_info": {
   "codemirror_mode": {
    "name": "ipython",
    "version": 3
   },
   "file_extension": ".py",
   "mimetype": "text/x-python",
   "name": "python",
   "nbconvert_exporter": "python",
   "pygments_lexer": "ipython3",
   "version": "3.7.6"
  }
 },
 "nbformat": 4,
 "nbformat_minor": 4
}
