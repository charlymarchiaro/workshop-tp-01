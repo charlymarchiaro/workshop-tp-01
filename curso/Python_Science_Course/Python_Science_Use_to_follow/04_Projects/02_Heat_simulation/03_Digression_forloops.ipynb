{
 "cells": [
  {
   "cell_type": "markdown",
   "metadata": {},
   "source": [
    "# for loops in Python\n",
    "\n",
    "Reminder general syntax:\n",
    "\n",
    "for (var) in (list):\n",
    "\n",
    "    (statement)\n",
    "    \n",
    "(Statement2)   \n",
    "  \n",
    "- var Variable that iterates over every list element   \n",
    "\n",
    "- : to start block of Statements\n",
    "    \n",
    "- Statement in loop -Tabs are important\n",
    "    \n",
    "- Statement2 outside of the loop"
   ]
  },
  {
   "cell_type": "code",
   "execution_count": null,
   "metadata": {},
   "outputs": [],
   "source": []
  },
  {
   "cell_type": "markdown",
   "metadata": {},
   "source": [
    "Often you have a variable and you need to do a task as often as the value of the variable.\n",
    "Then you need to create a list with counting up this value. This can be done using the range function.\n",
    "\n",
    "Watch out when using the range function - It always starts with 0"
   ]
  },
  {
   "cell_type": "code",
   "execution_count": null,
   "metadata": {},
   "outputs": [],
   "source": []
  },
  {
   "cell_type": "markdown",
   "metadata": {},
   "source": [
    "## Nested for loops\n",
    "\n",
    "For our example we need a nested for loop! That means a for loop in another for loop\n",
    "Therefore we need 2 variables that iterate and 2 lists"
   ]
  },
  {
   "cell_type": "code",
   "execution_count": null,
   "metadata": {},
   "outputs": [],
   "source": []
  },
  {
   "cell_type": "code",
   "execution_count": null,
   "metadata": {},
   "outputs": [],
   "source": []
  },
  {
   "cell_type": "code",
   "execution_count": null,
   "metadata": {},
   "outputs": [],
   "source": [
    "    "
   ]
  },
  {
   "cell_type": "code",
   "execution_count": null,
   "metadata": {},
   "outputs": [],
   "source": []
  }
 ],
 "metadata": {
  "kernelspec": {
   "display_name": "Python 3",
   "language": "python",
   "name": "python3"
  },
  "language_info": {
   "codemirror_mode": {
    "name": "ipython",
    "version": 3
   },
   "file_extension": ".py",
   "mimetype": "text/x-python",
   "name": "python",
   "nbconvert_exporter": "python",
   "pygments_lexer": "ipython3",
   "version": "3.7.6"
  }
 },
 "nbformat": 4,
 "nbformat_minor": 4
}
