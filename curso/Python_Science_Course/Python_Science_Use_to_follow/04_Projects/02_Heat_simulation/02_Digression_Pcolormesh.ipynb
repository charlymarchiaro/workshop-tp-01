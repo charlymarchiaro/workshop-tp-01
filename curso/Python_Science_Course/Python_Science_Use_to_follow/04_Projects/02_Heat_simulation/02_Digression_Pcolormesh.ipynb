{
 "cells": [
  {
   "cell_type": "markdown",
   "metadata": {},
   "source": [
    "# Visualize Array"
   ]
  },
  {
   "cell_type": "code",
   "execution_count": null,
   "metadata": {},
   "outputs": [],
   "source": []
  },
  {
   "cell_type": "markdown",
   "metadata": {},
   "source": [
    "## Pcolormesh\n",
    "\n",
    "Now we want to visualize our Array. This can be done in different ways\n",
    "- We want to use pcolormesh\n",
    "https://matplotlib.org/3.2.1/api/_as_gen/matplotlib.pyplot.pcolormesh.html\n",
    "\n",
    "\n",
    "Syntax: \n",
    "pcolormesh([X, Y,] C, **kwargs)\n",
    "\n",
    "Some variables must be added and others are optional\n",
    "\n",
    "Necessary input:\n",
    "C is a 2D array\n",
    "\n",
    "Optional is X and Y - Describe the corners of an array\n",
    "\n",
    "There are also a lot of optional Variables and Parameters: Shown by **kwargs\n",
    "\n"
   ]
  },
  {
   "cell_type": "code",
   "execution_count": null,
   "metadata": {},
   "outputs": [],
   "source": []
  },
  {
   "cell_type": "markdown",
   "metadata": {},
   "source": [
    "Other Variables in pcolormesh: **kwargs\n",
    "\n",
    "For Pcolormesh you can use different colorsets: cmap\n",
    "https://matplotlib.org/tutorials/colors/colormaps.html\n",
    " Cmaps: 'jet', 'hot'\n"
   ]
  },
  {
   "cell_type": "code",
   "execution_count": null,
   "metadata": {},
   "outputs": [],
   "source": []
  },
  {
   "cell_type": "code",
   "execution_count": null,
   "metadata": {},
   "outputs": [],
   "source": []
  }
 ],
 "metadata": {
  "kernelspec": {
   "display_name": "Python 3",
   "language": "python",
   "name": "python3"
  },
  "language_info": {
   "codemirror_mode": {
    "name": "ipython",
    "version": 3
   },
   "file_extension": ".py",
   "mimetype": "text/x-python",
   "name": "python",
   "nbconvert_exporter": "python",
   "pygments_lexer": "ipython3",
   "version": "3.7.6"
  }
 },
 "nbformat": 4,
 "nbformat_minor": 4
}
