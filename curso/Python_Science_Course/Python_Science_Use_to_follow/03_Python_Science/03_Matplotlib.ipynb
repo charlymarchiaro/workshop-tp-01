{
 "cells": [
  {
   "cell_type": "markdown",
   "metadata": {},
   "source": [
    "# Matplotlib: Visualization with Python\n",
    "\n",
    "With Python you have to code your Plots!\n",
    "\n",
    "Help - Matplotlib reference - Different Graphs can be created\n",
    "\n",
    "Installed in Anaconda already\n",
    "\n"
   ]
  },
  {
   "cell_type": "code",
   "execution_count": null,
   "metadata": {},
   "outputs": [],
   "source": []
  },
  {
   "cell_type": "code",
   "execution_count": null,
   "metadata": {},
   "outputs": [],
   "source": []
  },
  {
   "cell_type": "markdown",
   "metadata": {},
   "source": [
    "Workflow:\n",
    "1. Data\n",
    "\n",
    "1. Visualize your Data Object oriented (OO) style or Pyplot style\n",
    "    - Equally powerful\n",
    "    - Use OO style for normal plots and Pyplot Style for interactive style\n",
    "\n",
    "1. Style and add information\n"
   ]
  },
  {
   "cell_type": "markdown",
   "metadata": {},
   "source": [
    "## 1. Data "
   ]
  },
  {
   "cell_type": "code",
   "execution_count": null,
   "metadata": {},
   "outputs": [],
   "source": []
  },
  {
   "cell_type": "markdown",
   "metadata": {},
   "source": [
    "## 2. Object oriented plotting\n",
    "\n",
    " Object oriented Explicitly create figures and axes, and call methods on them (the \"object-oriented (OO) style\").\n",
    " \n",
    " Matplotlib graphs your data on **figures** and can have one or more **axes**.\n",
    "1. **axes**: region of the image with the data space (actual Plot)\n",
    "1. **Figure**: The whole figure: A figure can contain any number of Axes, but will typically have at least one."
   ]
  },
  {
   "cell_type": "code",
   "execution_count": null,
   "metadata": {},
   "outputs": [],
   "source": []
  },
  {
   "cell_type": "markdown",
   "metadata": {},
   "source": [
    "## 2. Pyplot\n",
    "\n",
    "Rely on pyplot to automatically create and manage the figures and axes, and use pyplot functions for plotting.\n"
   ]
  },
  {
   "cell_type": "code",
   "execution_count": null,
   "metadata": {},
   "outputs": [],
   "source": []
  },
  {
   "cell_type": "markdown",
   "metadata": {},
   "source": [
    "## 3. Sytling"
   ]
  },
  {
   "cell_type": "markdown",
   "metadata": {},
   "source": [
    "In Python you code your Styling - This makes it really flexible and powerful\n"
   ]
  },
  {
   "cell_type": "code",
   "execution_count": null,
   "metadata": {
    "scrolled": true
   },
   "outputs": [],
   "source": []
  },
  {
   "cell_type": "markdown",
   "metadata": {},
   "source": [
    "## 4. Now reversed: \n",
    "I have some data - and i want to plot them in a special way? \n",
    "1. What plot can i use? Matplotlib Gallery\n",
    "    - Overview of basic Matplotlib and Pyplot Plots\n",
    "    - With examples\n",
    "    - Most examples use the Object oriented pattern - Only the Pyplot section uses the Pyplot fucntion pattern\n",
    "1. How to use this plot format - Matplotlib Documentation\n",
    "    - Go to the example and then to the documentation\n",
    "1. How to find out how i can style this kind of plot? - Matplotlib Documentation\n",
    "    - "
   ]
  },
  {
   "cell_type": "code",
   "execution_count": null,
   "metadata": {
    "scrolled": true
   },
   "outputs": [],
   "source": []
  },
  {
   "cell_type": "markdown",
   "metadata": {},
   "source": [
    "## Export\n",
    "Plots can be exported and stored easily with plt.savefig()\n",
    "- pdf\n",
    "- png\n",
    "...\n",
    "\n",
    "https://matplotlib.org/3.1.1/api/_as_gen/matplotlib.pyplot.savefig.html"
   ]
  },
  {
   "cell_type": "code",
   "execution_count": null,
   "metadata": {},
   "outputs": [],
   "source": []
  },
  {
   "cell_type": "markdown",
   "metadata": {},
   "source": [
    "# Rich outputs - Magic comments\n",
    "- IPhyton can show rich outputs"
   ]
  },
  {
   "cell_type": "code",
   "execution_count": null,
   "metadata": {},
   "outputs": [],
   "source": []
  },
  {
   "cell_type": "code",
   "execution_count": null,
   "metadata": {},
   "outputs": [],
   "source": []
  },
  {
   "cell_type": "code",
   "execution_count": null,
   "metadata": {
    "scrolled": true
   },
   "outputs": [],
   "source": []
  },
  {
   "cell_type": "code",
   "execution_count": null,
   "metadata": {},
   "outputs": [],
   "source": []
  }
 ],
 "metadata": {
  "kernelspec": {
   "display_name": "Python 3",
   "language": "python",
   "name": "python3"
  },
  "language_info": {
   "codemirror_mode": {
    "name": "ipython",
    "version": 3
   },
   "file_extension": ".py",
   "mimetype": "text/x-python",
   "name": "python",
   "nbconvert_exporter": "python",
   "pygments_lexer": "ipython3",
   "version": "3.7.6"
  }
 },
 "nbformat": 4,
 "nbformat_minor": 4
}
