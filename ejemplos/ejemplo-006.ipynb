{
 "cells": [
  {
   "cell_type": "markdown",
   "source": [
    "# Ejemplo 006\n",
    "\n",
    "**Problema:** Queremos detectar cambios en una tabla de la base de datos compartida de Ingenier@, y leer todos los registros que se modificaron. \n"
   ],
   "metadata": {
    "collapsed": false
   },
   "id": "8a465d5a53a06677"
  },
  {
   "cell_type": "markdown",
   "source": [
    "#### Importamos paquetes necesarios"
   ],
   "metadata": {
    "collapsed": false
   },
   "id": "65e5598febcef2b5"
  },
  {
   "cell_type": "code",
   "execution_count": 45,
   "outputs": [],
   "source": [
    "# Importación de paquetes requeridos\n",
    "import requests\n",
    "import json\n",
    "from datetime import datetime"
   ],
   "metadata": {
    "collapsed": false,
    "ExecuteTime": {
     "end_time": "2023-10-17T20:06:24.521742500Z",
     "start_time": "2023-10-17T20:06:24.461742700Z"
    }
   },
   "id": "4e63696b124bf12c"
  },
  {
   "cell_type": "markdown",
   "source": [
    "#### Funciones auxiliares"
   ],
   "metadata": {
    "collapsed": false
   },
   "id": "7f6069bb45009a53"
  },
  {
   "cell_type": "code",
   "execution_count": 46,
   "outputs": [],
   "source": [
    "# Función auxiliar para visualizar los datos\n",
    "def pp(obj):\n",
    "    print(json.dumps(obj, indent=2))"
   ],
   "metadata": {
    "collapsed": false,
    "ExecuteTime": {
     "end_time": "2023-10-17T20:06:24.575742Z",
     "start_time": "2023-10-17T20:06:24.470745400Z"
    }
   },
   "id": "2ad03a3c4cd98f05"
  },
  {
   "cell_type": "markdown",
   "source": [
    "#### Parámetros del script"
   ],
   "metadata": {
    "collapsed": false
   },
   "id": "d6f8e99293b26551"
  },
  {
   "cell_type": "code",
   "execution_count": 47,
   "outputs": [],
   "source": [
    "# Base URL de la api de Ingenier@\n",
    "iga_api_base_url = \"http://ing-acc-movil01.personal.corp/ingenier@/symfony/public/index.php/api\"\n",
    "\n",
    "# Última sincronización: última vez que se ejecutó este script. \n",
    "# Debemos obtener todos los registros que se modificaron o agregaron posteriormente a este datetime.\n",
    "last_sync_datetime = \"2023-10-05 22:34:15.905169\"\n",
    "\n",
    "# Tabla en la base de datos compartida\n",
    "shdb_category = \"CLASE SITIO\"\n",
    "shdb_group = \"SITE_CLASS\"\n",
    "shdb_table_name = \"SITE_CLASS_MAIN\"\n"
   ],
   "metadata": {
    "collapsed": false,
    "ExecuteTime": {
     "end_time": "2023-10-17T20:06:24.579770800Z",
     "start_time": "2023-10-17T20:06:24.486747300Z"
    }
   },
   "id": "7f666d852f9ce599"
  },
  {
   "cell_type": "markdown",
   "source": [
    "#### Consulta del historial de cambios"
   ],
   "metadata": {
    "collapsed": false
   },
   "id": "34c465296a3a9428"
  },
  {
   "cell_type": "code",
   "execution_count": 48,
   "outputs": [
    {
     "name": "stdout",
     "output_type": "stream",
     "text": [
      "{\n",
      "  \"status\": \"success\",\n",
      "  \"page\": 1,\n",
      "  \"totalPages\": 1,\n",
      "  \"totalItems\": 15,\n",
      "  \"itemsPerPage\": 1000000000,\n",
      "  \"count\": 15,\n",
      "  \"data\": [\n",
      "    {\n",
      "      \"id\": \"126320\",\n",
      "      \"dateTime\": \"2023-10-05 22:34:15.990155\",\n",
      "      \"eventType\": \"EVENT_ADD\",\n",
      "      \"username\": \"u500469\",\n",
      "      \"entityId\": \"7934\",\n",
      "      \"entityInfo\": \"{\\\"siteName\\\":\\\"A41-A776\\\",\\\"class\\\":\\\"D\\\"}\"\n",
      "    },\n",
      "    {\n",
      "      \"id\": \"126319\",\n",
      "      \"dateTime\": \"2023-10-05 22:34:15.985638\",\n",
      "      \"eventType\": \"EVENT_ADD\",\n",
      "      \"username\": \"u500469\",\n",
      "      \"entityId\": \"7933\",\n",
      "      \"entityInfo\": \"{\\\"siteName\\\":\\\"A41-A420\\\",\\\"class\\\":\\\"D\\\"}\"\n",
      "    },\n",
      "    {\n",
      "      \"id\": \"126318\",\n",
      "      \"dateTime\": \"2023-10-05 22:34:15.980815\",\n",
      "      \"eventType\": \"EVENT_ADD\",\n",
      "      \"username\": \"u500469\",\n",
      "      \"entityId\": \"7932\",\n",
      "      \"entityInfo\": \"{\\\"siteName\\\":\\\"A40-B781\\\",\\\"class\\\":\\\"D\\\"}\"\n",
      "    },\n",
      "    {\n",
      "      \"id\": \"126317\",\n",
      "      \"dateTime\": \"2023-10-05 22:34:15.975948\",\n",
      "      \"eventType\": \"EVENT_ADD\",\n",
      "      \"username\": \"u500469\",\n",
      "      \"entityId\": \"7931\",\n",
      "      \"entityInfo\": \"{\\\"siteName\\\":\\\"SID_017\\\",\\\"class\\\":\\\"D\\\"}\"\n",
      "    },\n",
      "    {\n",
      "      \"id\": \"126316\",\n",
      "      \"dateTime\": \"2023-10-05 22:34:15.971395\",\n",
      "      \"eventType\": \"EVENT_ADD\",\n",
      "      \"username\": \"u500469\",\n",
      "      \"entityId\": \"7930\",\n",
      "      \"entityInfo\": \"{\\\"siteName\\\":\\\"SID_049\\\",\\\"class\\\":\\\"D\\\"}\"\n",
      "    },\n",
      "    {\n",
      "      \"id\": \"126315\",\n",
      "      \"dateTime\": \"2023-10-05 22:34:15.966275\",\n",
      "      \"eventType\": \"EVENT_ADD\",\n",
      "      \"username\": \"u500469\",\n",
      "      \"entityId\": \"7929\",\n",
      "      \"entityInfo\": \"{\\\"siteName\\\":\\\"A28-Q137\\\",\\\"class\\\":\\\"D\\\"}\"\n",
      "    },\n",
      "    {\n",
      "      \"id\": \"126314\",\n",
      "      \"dateTime\": \"2023-10-05 22:34:15.960265\",\n",
      "      \"eventType\": \"EVENT_ADD\",\n",
      "      \"username\": \"u500469\",\n",
      "      \"entityId\": \"7928\",\n",
      "      \"entityInfo\": \"{\\\"siteName\\\":\\\"A29-B230\\\",\\\"class\\\":\\\"C\\\"}\"\n",
      "    },\n",
      "    {\n",
      "      \"id\": \"126313\",\n",
      "      \"dateTime\": \"2023-10-05 22:34:15.954203\",\n",
      "      \"eventType\": \"EVENT_ADD\",\n",
      "      \"username\": \"u500469\",\n",
      "      \"entityId\": \"7927\",\n",
      "      \"entityInfo\": \"{\\\"siteName\\\":\\\"A41-A437\\\",\\\"class\\\":\\\"D\\\"}\"\n",
      "    },\n",
      "    {\n",
      "      \"id\": \"126312\",\n",
      "      \"dateTime\": \"2023-10-05 22:34:15.947628\",\n",
      "      \"eventType\": \"EVENT_ADD\",\n",
      "      \"username\": \"u500469\",\n",
      "      \"entityId\": \"7926\",\n",
      "      \"entityInfo\": \"{\\\"siteName\\\":\\\"A41-A073\\\",\\\"class\\\":\\\"D\\\"}\"\n",
      "    },\n",
      "    {\n",
      "      \"id\": \"126311\",\n",
      "      \"dateTime\": \"2023-10-05 22:34:15.940903\",\n",
      "      \"eventType\": \"EVENT_ADD\",\n",
      "      \"username\": \"u500469\",\n",
      "      \"entityId\": \"7925\",\n",
      "      \"entityInfo\": \"{\\\"siteName\\\":\\\"A43-B162\\\",\\\"class\\\":\\\"C\\\"}\"\n",
      "    },\n",
      "    {\n",
      "      \"id\": \"126310\",\n",
      "      \"dateTime\": \"2023-10-05 22:34:15.933512\",\n",
      "      \"eventType\": \"EVENT_ADD\",\n",
      "      \"username\": \"u500469\",\n",
      "      \"entityId\": \"7924\",\n",
      "      \"entityInfo\": \"{\\\"siteName\\\":\\\"A41-A069\\\",\\\"class\\\":\\\"D\\\"}\"\n",
      "    },\n",
      "    {\n",
      "      \"id\": \"126309\",\n",
      "      \"dateTime\": \"2023-10-05 22:34:15.925670\",\n",
      "      \"eventType\": \"EVENT_ADD\",\n",
      "      \"username\": \"u500469\",\n",
      "      \"entityId\": \"7923\",\n",
      "      \"entityInfo\": \"{\\\"siteName\\\":\\\"A41-B685\\\",\\\"class\\\":\\\"D\\\"}\"\n",
      "    },\n",
      "    {\n",
      "      \"id\": \"126308\",\n",
      "      \"dateTime\": \"2023-10-05 22:34:15.918518\",\n",
      "      \"eventType\": \"EVENT_ADD\",\n",
      "      \"username\": \"u500469\",\n",
      "      \"entityId\": \"7922\",\n",
      "      \"entityInfo\": \"{\\\"siteName\\\":\\\"A41-A419\\\",\\\"class\\\":\\\"D\\\"}\"\n",
      "    },\n",
      "    {\n",
      "      \"id\": \"126307\",\n",
      "      \"dateTime\": \"2023-10-05 22:34:15.911905\",\n",
      "      \"eventType\": \"EVENT_ADD\",\n",
      "      \"username\": \"u500469\",\n",
      "      \"entityId\": \"7921\",\n",
      "      \"entityInfo\": \"{\\\"siteName\\\":\\\"A24-V039\\\",\\\"class\\\":\\\"D\\\"}\"\n",
      "    },\n",
      "    {\n",
      "      \"id\": \"126306\",\n",
      "      \"dateTime\": \"2023-10-05 22:34:15.905169\",\n",
      "      \"eventType\": \"EVENT_ADD\",\n",
      "      \"username\": \"u500469\",\n",
      "      \"entityId\": \"7920\",\n",
      "      \"entityInfo\": \"{\\\"siteName\\\":\\\"A26-U121\\\",\\\"class\\\":\\\"D\\\"}\"\n",
      "    }\n",
      "  ]\n",
      "}\n"
     ]
    }
   ],
   "source": [
    "# Nos interesan eventos que cumplan dos condiciones:\n",
    "# 1. Sean posteriores al datetime de la ultima sincronización\n",
    "# 2. Sean eventos del tipo EVENT_ADD o EVENT_UPDATE (no nos interesan los eventos de tipo EVENT_REMOVE)\n",
    "payload = {\n",
    "  \"category\": shdb_category,\n",
    "  \"group\": shdb_group,\n",
    "  \"tableName\": shdb_table_name,\n",
    "  \"page\": 1,\n",
    "  \"itemsPerPage\": 1000000000,\n",
    "  \"filterCriteria\": [\n",
    "    {\n",
    "      \"fieldName\": \"dateTime\",\n",
    "      \"conditionType\": \"greaterThanOrEqual\",\n",
    "      \"values\": [\n",
    "        last_sync_datetime\n",
    "      ]\n",
    "    },\n",
    "    {\n",
    "      \"fieldName\": \"eventType\",\n",
    "      \"conditionType\": \"in\",\n",
    "      \"values\": [\n",
    "        \"EVENT_ADD\",\n",
    "        \"EVENT_UPDATE\"\n",
    "      ]\n",
    "    }\n",
    "  ],\n",
    "  \"orderCriteria\": []\n",
    "}\n",
    "\n",
    "res = requests.post(iga_api_base_url + \"/secure/shared-database/change-history\", json=payload)\n",
    "pp(res.json())\n"
   ],
   "metadata": {
    "collapsed": false,
    "ExecuteTime": {
     "end_time": "2023-10-17T20:06:25.578092600Z",
     "start_time": "2023-10-17T20:06:24.502744900Z"
    }
   },
   "id": "96c61b9389295bc5"
  },
  {
   "cell_type": "code",
   "execution_count": 49,
   "outputs": [
    {
     "name": "stdout",
     "output_type": "stream",
     "text": [
      "[\n",
      "  \"A41-A073\",\n",
      "  \"A24-V039\",\n",
      "  \"A41-A776\",\n",
      "  \"A28-Q137\",\n",
      "  \"A43-B162\",\n",
      "  \"A41-A069\",\n",
      "  \"A26-U121\",\n",
      "  \"A41-B685\",\n",
      "  \"SID_017\",\n",
      "  \"SID_049\",\n",
      "  \"A41-A437\",\n",
      "  \"A41-A420\",\n",
      "  \"A41-A419\",\n",
      "  \"A29-B230\",\n",
      "  \"A40-B781\"\n",
      "]\n"
     ]
    }
   ],
   "source": [
    "change_history_events = res.json()[\"data\"]\n",
    "\n",
    "updated_site_names = [\n",
    "  json.loads(e[\"entityInfo\"])[\"siteName\"]\n",
    "  for e in change_history_events\n",
    "]\n",
    "# Removemos valores duplicados en caso de haberlos\n",
    "updated_site_names = list(set(updated_site_names))\n",
    "\n",
    "# Con eso obtenemos la lista de sitios que fueron modificados o agregados\n",
    "pp(updated_site_names)"
   ],
   "metadata": {
    "collapsed": false,
    "ExecuteTime": {
     "end_time": "2023-10-17T20:06:25.593092100Z",
     "start_time": "2023-10-17T20:06:25.569094300Z"
    }
   },
   "id": "287df52c2422d500"
  },
  {
   "cell_type": "markdown",
   "source": [
    "#### Consulta del dato \"Clase\" para los sitios que fueron actualizados"
   ],
   "metadata": {
    "collapsed": false
   },
   "id": "e181d84e1e932aec"
  },
  {
   "cell_type": "code",
   "execution_count": 50,
   "outputs": [
    {
     "name": "stdout",
     "output_type": "stream",
     "text": [
      "{\n",
      "  \"status\": \"success\",\n",
      "  \"page\": 1,\n",
      "  \"totalPages\": 1,\n",
      "  \"totalItems\": 15,\n",
      "  \"itemsPerPage\": 1000000000,\n",
      "  \"count\": 15,\n",
      "  \"data\": [\n",
      "    {\n",
      "      \"id\": 7921,\n",
      "      \"siteName\": \"A24-V039\",\n",
      "      \"class\": \"D\"\n",
      "    },\n",
      "    {\n",
      "      \"id\": 7920,\n",
      "      \"siteName\": \"A26-U121\",\n",
      "      \"class\": \"D\"\n",
      "    },\n",
      "    {\n",
      "      \"id\": 7929,\n",
      "      \"siteName\": \"A28-Q137\",\n",
      "      \"class\": \"D\"\n",
      "    },\n",
      "    {\n",
      "      \"id\": 7928,\n",
      "      \"siteName\": \"A29-B230\",\n",
      "      \"class\": \"C\"\n",
      "    },\n",
      "    {\n",
      "      \"id\": 7932,\n",
      "      \"siteName\": \"A40-B781\",\n",
      "      \"class\": \"D\"\n",
      "    },\n",
      "    {\n",
      "      \"id\": 7924,\n",
      "      \"siteName\": \"A41-A069\",\n",
      "      \"class\": \"D\"\n",
      "    },\n",
      "    {\n",
      "      \"id\": 7926,\n",
      "      \"siteName\": \"A41-A073\",\n",
      "      \"class\": \"D\"\n",
      "    },\n",
      "    {\n",
      "      \"id\": 7922,\n",
      "      \"siteName\": \"A41-A419\",\n",
      "      \"class\": \"D\"\n",
      "    },\n",
      "    {\n",
      "      \"id\": 7933,\n",
      "      \"siteName\": \"A41-A420\",\n",
      "      \"class\": \"D\"\n",
      "    },\n",
      "    {\n",
      "      \"id\": 7927,\n",
      "      \"siteName\": \"A41-A437\",\n",
      "      \"class\": \"D\"\n",
      "    },\n",
      "    {\n",
      "      \"id\": 7934,\n",
      "      \"siteName\": \"A41-A776\",\n",
      "      \"class\": \"D\"\n",
      "    },\n",
      "    {\n",
      "      \"id\": 7923,\n",
      "      \"siteName\": \"A41-B685\",\n",
      "      \"class\": \"D\"\n",
      "    },\n",
      "    {\n",
      "      \"id\": 7925,\n",
      "      \"siteName\": \"A43-B162\",\n",
      "      \"class\": \"C\"\n",
      "    },\n",
      "    {\n",
      "      \"id\": 7931,\n",
      "      \"siteName\": \"SID_017\",\n",
      "      \"class\": \"D\"\n",
      "    },\n",
      "    {\n",
      "      \"id\": 7930,\n",
      "      \"siteName\": \"SID_049\",\n",
      "      \"class\": \"D\"\n",
      "    }\n",
      "  ]\n",
      "}\n"
     ]
    }
   ],
   "source": [
    "# Obtenemos datos de la tabla para los sitios modificados o agregados\n",
    "payload = {\n",
    "  \"category\": shdb_category,\n",
    "  \"group\": shdb_group,\n",
    "  \"tableName\": shdb_table_name,\n",
    "  \"page\": 1,\n",
    "  \"itemsPerPage\": 1000000000,\n",
    "  \"filterCriteria\": [\n",
    "    {\n",
    "      \"fieldName\": \"siteName\",\n",
    "      \"conditionType\": \"in\",\n",
    "      \"values\": updated_site_names\n",
    "    }\n",
    "  ],\n",
    "  \"orderCriteria\": [],\n",
    "  \"resolveCustomChoiceValues\": True\n",
    "}\n",
    "\n",
    "res = requests.post(iga_api_base_url + \"/secure/shared-database/select-data\", json=payload)\n",
    "pp(res.json())\n",
    "\n",
    "# Los datos que debemos impactar en la base están en el campo \"data\" del payload\n",
    "site_class_data = res.json()[\"data\"]\n",
    "\n",
    "# Luego de impactar los datos deberíamos actualizar "
   ],
   "metadata": {
    "collapsed": false,
    "ExecuteTime": {
     "end_time": "2023-10-17T20:06:26.672188Z",
     "start_time": "2023-10-17T20:06:25.586094300Z"
    }
   },
   "id": "c28c28ff5b7a7a15"
  },
  {
   "cell_type": "code",
   "execution_count": 51,
   "outputs": [
    {
     "name": "stdout",
     "output_type": "stream",
     "text": [
      "2023-10-17 17:06:26.671188\n"
     ]
    }
   ],
   "source": [
    "# Luego de impactar los datos deberíamos actualizar el valor de last_sync_datetime con fecha \n",
    "# y hora actual y persistirlo antes de la próxima ejecución del script.\n",
    "# Tener en cuenta que hay que respetar el formato requerido por el endpoint de change-history:\n",
    "\n",
    "last_sync_datetime = datetime.now()\n",
    "print(last_sync_datetime)\n"
   ],
   "metadata": {
    "collapsed": false,
    "ExecuteTime": {
     "end_time": "2023-10-17T20:06:26.729185900Z",
     "start_time": "2023-10-17T20:06:26.672188Z"
    }
   },
   "id": "75802ac9bfaa8321"
  },
  {
   "cell_type": "code",
   "execution_count": 51,
   "outputs": [],
   "source": [],
   "metadata": {
    "collapsed": false,
    "ExecuteTime": {
     "end_time": "2023-10-17T20:06:26.740187800Z",
     "start_time": "2023-10-17T20:06:26.687191300Z"
    }
   },
   "id": "3ce365dba260143c"
  }
 ],
 "metadata": {
  "kernelspec": {
   "display_name": "Python 3",
   "language": "python",
   "name": "python3"
  },
  "language_info": {
   "codemirror_mode": {
    "name": "ipython",
    "version": 2
   },
   "file_extension": ".py",
   "mimetype": "text/x-python",
   "name": "python",
   "nbconvert_exporter": "python",
   "pygments_lexer": "ipython2",
   "version": "2.7.6"
  }
 },
 "nbformat": 4,
 "nbformat_minor": 5
}
