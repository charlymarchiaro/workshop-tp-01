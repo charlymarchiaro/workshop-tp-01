{
 "cells": [
  {
   "cell_type": "markdown",
   "source": [
    "# Ejemplo 005\n",
    "\n",
    "**Problema:** Queremos descargar el reporte de datos outdoor desde Ingenier@ para una lista de sitios, pero no conocemos los códigos de sitio sino solo los EMG.\n",
    "La ejecución es, como máximo, una vez por día.\n",
    "\n",
    "**Estrategia:** Dado que la consulta se realiza una sola vez por día, vamos a resolverlo creando una tabla de correspondencia **EMG &harr; Cód. Sitio** al inicio del script, y después convertiremos cada EMG en el código de sitio correspondiente. Por último obtenemos el reporte de datos outdoor de la manera usual."
   ],
   "metadata": {
    "collapsed": false,
    "pycharm": {
     "name": "#%% md\n"
    }
   }
  },
  {
   "cell_type": "markdown",
   "source": [
    "#### Importamos paquetes necesarios"
   ],
   "metadata": {
    "collapsed": false,
    "pycharm": {
     "name": "#%% md\n"
    }
   }
  },
  {
   "cell_type": "code",
   "execution_count": 64,
   "outputs": [],
   "source": [
    "# Importación de paquetes requeridos\n",
    "import io\n",
    "import requests\n",
    "import pandas as pd\n",
    "from IPython.display import display, Markdown, Latex\n",
    "import json"
   ],
   "metadata": {
    "collapsed": false,
    "pycharm": {
     "name": "#%%\n"
    }
   }
  },
  {
   "cell_type": "markdown",
   "source": [
    "#### Parámetros del script"
   ],
   "metadata": {
    "collapsed": false,
    "pycharm": {
     "name": "#%% md\n"
    }
   }
  },
  {
   "cell_type": "code",
   "execution_count": 65,
   "outputs": [],
   "source": [
    "# Parmámetros\n",
    "iga_api_base_url = 'http://ing-acc-movil01/ingenier@/symfony/public/index.php/api'\n",
    "emgs = [\n",
    "    '2LAVTP','CCSUTP','CROHTP','CBRATP','CEX2TP','CTCNTP','CMHGTP','CNXRET','CNALVR','CESMPH'\n",
    "]"
   ],
   "metadata": {
    "collapsed": false,
    "pycharm": {
     "name": "#%%\n"
    }
   }
  },
  {
   "cell_type": "markdown",
   "source": [
    "#### Funciones auxiliares"
   ],
   "metadata": {
    "collapsed": false,
    "pycharm": {
     "name": "#%% md\n"
    }
   }
  },
  {
   "cell_type": "code",
   "execution_count": 66,
   "outputs": [],
   "source": [
    "# Función auxiliar para visualizar los datos\n",
    "def pp(obj):\n",
    "    print(json.dumps(obj, indent=2))"
   ],
   "metadata": {
    "collapsed": false,
    "pycharm": {
     "name": "#%%\n"
    }
   }
  },
  {
   "cell_type": "markdown",
   "source": [
    "#### Creación de la tabla de correspondencia\n",
    "\n",
    "Para esto podemos descargar el reporte de **Datos Generales de Sitio** para la red completa:\n"
   ],
   "metadata": {
    "collapsed": false,
    "pycharm": {
     "name": "#%% md\n"
    }
   }
  },
  {
   "cell_type": "code",
   "execution_count": 67,
   "outputs": [],
   "source": [
    "# Llamamos al endpoint generic-report para obtener el reporte de datos generales de sitio:\n",
    "\n",
    "# Parámetros en el payload de la request con que llamamos al endpoint de IGA:\n",
    "payload = {\n",
    "    # Nombre del reporte: datos_generales_sitio\n",
    "    \"reportName\": \"datos_generales_sitio\",\n",
    "    # Sitios seleccionados: ninguno (lista vacía: [])\n",
    "    \"siteNames\": [],\n",
    "    # Parámetros de filtrado: ninguno (objeto vacío: {})\n",
    "    \"filteringParams\": {},\n",
    "    # Seleccionar por nombres de sitio: no\n",
    "    \"selectBySiteNames\": False,\n",
    "    # Seleccionar por parámetros de filtrado: sí\n",
    "    \"selectByFilteringParams\": True\n",
    "}\n",
    "# Como en este caso especificamos que usaremos parámetros de filtrado y a su vez el filtro\n",
    "# está vacío, esto es interpretado por la API como que queremos bajar la red completa.\n",
    "x = requests.post(iga_api_base_url + '/public/report/generic-report', json=payload)\n",
    "\n",
    "# En x almacenamos los datos devueltos por el endpoint de IGA. Es un archivo xlsx en formato binario\n",
    "\n",
    "# Usando pandas, con la función read_excel, leemos los datos y los almacenamos en memoria como un objeto de python:\n",
    "with io.BytesIO(x.content) as fh:\n",
    "    df_datos_generales_sitio = pd.read_excel(fh)"
   ],
   "metadata": {
    "collapsed": false,
    "pycharm": {
     "name": "#%%\n"
    }
   }
  },
  {
   "cell_type": "markdown",
   "source": [
    "#### Visualizamos los datos generales de sitio descargados (paso opcional)"
   ],
   "metadata": {
    "collapsed": false,
    "pycharm": {
     "name": "#%% md\n"
    }
   }
  },
  {
   "cell_type": "code",
   "execution_count": 68,
   "outputs": [
    {
     "data": {
      "text/plain": "         Código     EMG                            Nombre Tipo Estación  \\\n0      A01-E133  XRCESE                Río IV E Sarmiento         EasyM   \n1      A01-E134  XRCEAL                    Río IV LN Alem         EasyM   \n2      A01-E135  XRCEMO                  Río IV E Mosconi         EasyM   \n3      A01-E136  XRCENO                   Río IV E Norona         EasyM   \n4      A01-E138  XRCESA             Rio IV E Sarmiento II         EasyM   \n...         ...     ...                               ...           ...   \n19327    SPU995  XXYYZZ       AMBA BERAZATEGUI 2020 - 017         Macro   \n19328    SPU996  XXYYZZ       AMBA BERAZATEGUI 2020 - 018         Macro   \n19329    SPU997  XXYYZZ       AMBA BERAZATEGUI 2020 - 019         Macro   \n19330    SPU998  SBB12O  Berazategui Barrio 12 de Octubre         Macro   \n19331    SPU999  XXYYZZ       AMBA BERAZATEGUI 2020 - 021         Macro   \n\n      Estado Sitio    Latitud   Longitud Región     Provincia Departamento  \\\n0               OA -33.142181 -64.348739   MEDI       Córdoba   Río Cuarto   \n1               OA -33.141588 -64.338766   MEDI       Córdoba   Río Cuarto   \n2               OA -33.149821 -64.354526   MEDI       Córdoba   Río Cuarto   \n3               OA -33.148838 -64.346688   MEDI       Córdoba   Río Cuarto   \n4               OA -33.128882 -64.344629   MEDI       Córdoba   Río Cuarto   \n...            ...        ...        ...    ...           ...          ...   \n19327           BS -34.777529 -58.250968   AMBA  Buenos Aires  Berazategui   \n19328           BS -34.777053 -58.259333   AMBA  Buenos Aires  Berazategui   \n19329           BS -34.766352 -58.238844   AMBA  Buenos Aires  Berazategui   \n19330           BS -34.767692 -58.229362  AMBA   Buenos Aires  Berazategui   \n19331           BS -34.760799 -58.222894   AMBA  Buenos Aires  Berazategui   \n\n       ...            Fecha NFC Fecha On Air Búsq. Altura  Búsq. Radio  \\\n0      ...                  NaN          NaN         12.0         50.0   \n1      ...                  NaN          NaN         12.0         50.0   \n2      ...                  NaN          NaN         12.0         50.0   \n3      ...                  NaN          NaN         12.0         50.0   \n4      ...                  NaN          NaN         12.0         50.0   \n...    ...                  ...          ...          ...          ...   \n19327  ...                  NaN          NaN         20.0        100.0   \n19328  ...                  NaN          NaN         20.0        100.0   \n19329  ...                  NaN          NaN         20.0        100.0   \n19330  ...  04/05/2020 00:00:00          NaN         20.0        100.0   \n19331  ...                  NaN          NaN         20.0        100.0   \n\n      Altura Estruc. Propiet. Cota 0 Propiet. Estruc.  \\\n0                NaN             NaN              NaN   \n1                NaN             NaN              NaN   \n2                NaN             NaN              NaN   \n3                NaN             NaN              NaN   \n4                NaN             NaN              NaN   \n...              ...             ...              ...   \n19327           20.0             NaN                0   \n19328           20.0             NaN                0   \n19329           20.0             NaN                0   \n19330           25.0             NaN              NaN   \n19331           20.0             NaN                0   \n\n                      Tipo Estruc. Plan de Obra Proyecto  \n0      Poste (con o sin luminaria)          NaN     MEDI  \n1      Poste (con o sin luminaria)          NaN     MEDI  \n2      Poste (con o sin luminaria)          NaN     MEDI  \n3      Poste (con o sin luminaria)          NaN     MEDI  \n4      Poste (con o sin luminaria)          NaN     MEDI  \n...                            ...          ...      ...  \n19327                          NaN          NaN     AMBA  \n19328                          NaN          NaN     AMBA  \n19329                          NaN          NaN     AMBA  \n19330                          NaN          NaN     AMBA  \n19331                          NaN          NaN     AMBA  \n\n[19332 rows x 32 columns]",
      "text/html": "<div>\n<style scoped>\n    .dataframe tbody tr th:only-of-type {\n        vertical-align: middle;\n    }\n\n    .dataframe tbody tr th {\n        vertical-align: top;\n    }\n\n    .dataframe thead th {\n        text-align: right;\n    }\n</style>\n<table border=\"1\" class=\"dataframe\">\n  <thead>\n    <tr style=\"text-align: right;\">\n      <th></th>\n      <th>Código</th>\n      <th>EMG</th>\n      <th>Nombre</th>\n      <th>Tipo Estación</th>\n      <th>Estado Sitio</th>\n      <th>Latitud</th>\n      <th>Longitud</th>\n      <th>Región</th>\n      <th>Provincia</th>\n      <th>Departamento</th>\n      <th>...</th>\n      <th>Fecha NFC</th>\n      <th>Fecha On Air</th>\n      <th>Búsq. Altura</th>\n      <th>Búsq. Radio</th>\n      <th>Altura Estruc.</th>\n      <th>Propiet. Cota 0</th>\n      <th>Propiet. Estruc.</th>\n      <th>Tipo Estruc.</th>\n      <th>Plan de Obra</th>\n      <th>Proyecto</th>\n    </tr>\n  </thead>\n  <tbody>\n    <tr>\n      <th>0</th>\n      <td>A01-E133</td>\n      <td>XRCESE</td>\n      <td>Río IV E Sarmiento</td>\n      <td>EasyM</td>\n      <td>OA</td>\n      <td>-33.142181</td>\n      <td>-64.348739</td>\n      <td>MEDI</td>\n      <td>Córdoba</td>\n      <td>Río Cuarto</td>\n      <td>...</td>\n      <td>NaN</td>\n      <td>NaN</td>\n      <td>12.0</td>\n      <td>50.0</td>\n      <td>NaN</td>\n      <td>NaN</td>\n      <td>NaN</td>\n      <td>Poste (con o sin luminaria)</td>\n      <td>NaN</td>\n      <td>MEDI</td>\n    </tr>\n    <tr>\n      <th>1</th>\n      <td>A01-E134</td>\n      <td>XRCEAL</td>\n      <td>Río IV LN Alem</td>\n      <td>EasyM</td>\n      <td>OA</td>\n      <td>-33.141588</td>\n      <td>-64.338766</td>\n      <td>MEDI</td>\n      <td>Córdoba</td>\n      <td>Río Cuarto</td>\n      <td>...</td>\n      <td>NaN</td>\n      <td>NaN</td>\n      <td>12.0</td>\n      <td>50.0</td>\n      <td>NaN</td>\n      <td>NaN</td>\n      <td>NaN</td>\n      <td>Poste (con o sin luminaria)</td>\n      <td>NaN</td>\n      <td>MEDI</td>\n    </tr>\n    <tr>\n      <th>2</th>\n      <td>A01-E135</td>\n      <td>XRCEMO</td>\n      <td>Río IV E Mosconi</td>\n      <td>EasyM</td>\n      <td>OA</td>\n      <td>-33.149821</td>\n      <td>-64.354526</td>\n      <td>MEDI</td>\n      <td>Córdoba</td>\n      <td>Río Cuarto</td>\n      <td>...</td>\n      <td>NaN</td>\n      <td>NaN</td>\n      <td>12.0</td>\n      <td>50.0</td>\n      <td>NaN</td>\n      <td>NaN</td>\n      <td>NaN</td>\n      <td>Poste (con o sin luminaria)</td>\n      <td>NaN</td>\n      <td>MEDI</td>\n    </tr>\n    <tr>\n      <th>3</th>\n      <td>A01-E136</td>\n      <td>XRCENO</td>\n      <td>Río IV E Norona</td>\n      <td>EasyM</td>\n      <td>OA</td>\n      <td>-33.148838</td>\n      <td>-64.346688</td>\n      <td>MEDI</td>\n      <td>Córdoba</td>\n      <td>Río Cuarto</td>\n      <td>...</td>\n      <td>NaN</td>\n      <td>NaN</td>\n      <td>12.0</td>\n      <td>50.0</td>\n      <td>NaN</td>\n      <td>NaN</td>\n      <td>NaN</td>\n      <td>Poste (con o sin luminaria)</td>\n      <td>NaN</td>\n      <td>MEDI</td>\n    </tr>\n    <tr>\n      <th>4</th>\n      <td>A01-E138</td>\n      <td>XRCESA</td>\n      <td>Rio IV E Sarmiento II</td>\n      <td>EasyM</td>\n      <td>OA</td>\n      <td>-33.128882</td>\n      <td>-64.344629</td>\n      <td>MEDI</td>\n      <td>Córdoba</td>\n      <td>Río Cuarto</td>\n      <td>...</td>\n      <td>NaN</td>\n      <td>NaN</td>\n      <td>12.0</td>\n      <td>50.0</td>\n      <td>NaN</td>\n      <td>NaN</td>\n      <td>NaN</td>\n      <td>Poste (con o sin luminaria)</td>\n      <td>NaN</td>\n      <td>MEDI</td>\n    </tr>\n    <tr>\n      <th>...</th>\n      <td>...</td>\n      <td>...</td>\n      <td>...</td>\n      <td>...</td>\n      <td>...</td>\n      <td>...</td>\n      <td>...</td>\n      <td>...</td>\n      <td>...</td>\n      <td>...</td>\n      <td>...</td>\n      <td>...</td>\n      <td>...</td>\n      <td>...</td>\n      <td>...</td>\n      <td>...</td>\n      <td>...</td>\n      <td>...</td>\n      <td>...</td>\n      <td>...</td>\n      <td>...</td>\n    </tr>\n    <tr>\n      <th>19327</th>\n      <td>SPU995</td>\n      <td>XXYYZZ</td>\n      <td>AMBA BERAZATEGUI 2020 - 017</td>\n      <td>Macro</td>\n      <td>BS</td>\n      <td>-34.777529</td>\n      <td>-58.250968</td>\n      <td>AMBA</td>\n      <td>Buenos Aires</td>\n      <td>Berazategui</td>\n      <td>...</td>\n      <td>NaN</td>\n      <td>NaN</td>\n      <td>20.0</td>\n      <td>100.0</td>\n      <td>20.0</td>\n      <td>NaN</td>\n      <td>0</td>\n      <td>NaN</td>\n      <td>NaN</td>\n      <td>AMBA</td>\n    </tr>\n    <tr>\n      <th>19328</th>\n      <td>SPU996</td>\n      <td>XXYYZZ</td>\n      <td>AMBA BERAZATEGUI 2020 - 018</td>\n      <td>Macro</td>\n      <td>BS</td>\n      <td>-34.777053</td>\n      <td>-58.259333</td>\n      <td>AMBA</td>\n      <td>Buenos Aires</td>\n      <td>Berazategui</td>\n      <td>...</td>\n      <td>NaN</td>\n      <td>NaN</td>\n      <td>20.0</td>\n      <td>100.0</td>\n      <td>20.0</td>\n      <td>NaN</td>\n      <td>0</td>\n      <td>NaN</td>\n      <td>NaN</td>\n      <td>AMBA</td>\n    </tr>\n    <tr>\n      <th>19329</th>\n      <td>SPU997</td>\n      <td>XXYYZZ</td>\n      <td>AMBA BERAZATEGUI 2020 - 019</td>\n      <td>Macro</td>\n      <td>BS</td>\n      <td>-34.766352</td>\n      <td>-58.238844</td>\n      <td>AMBA</td>\n      <td>Buenos Aires</td>\n      <td>Berazategui</td>\n      <td>...</td>\n      <td>NaN</td>\n      <td>NaN</td>\n      <td>20.0</td>\n      <td>100.0</td>\n      <td>20.0</td>\n      <td>NaN</td>\n      <td>0</td>\n      <td>NaN</td>\n      <td>NaN</td>\n      <td>AMBA</td>\n    </tr>\n    <tr>\n      <th>19330</th>\n      <td>SPU998</td>\n      <td>SBB12O</td>\n      <td>Berazategui Barrio 12 de Octubre</td>\n      <td>Macro</td>\n      <td>BS</td>\n      <td>-34.767692</td>\n      <td>-58.229362</td>\n      <td>AMBA</td>\n      <td>Buenos Aires</td>\n      <td>Berazategui</td>\n      <td>...</td>\n      <td>04/05/2020 00:00:00</td>\n      <td>NaN</td>\n      <td>20.0</td>\n      <td>100.0</td>\n      <td>25.0</td>\n      <td>NaN</td>\n      <td>NaN</td>\n      <td>NaN</td>\n      <td>NaN</td>\n      <td>AMBA</td>\n    </tr>\n    <tr>\n      <th>19331</th>\n      <td>SPU999</td>\n      <td>XXYYZZ</td>\n      <td>AMBA BERAZATEGUI 2020 - 021</td>\n      <td>Macro</td>\n      <td>BS</td>\n      <td>-34.760799</td>\n      <td>-58.222894</td>\n      <td>AMBA</td>\n      <td>Buenos Aires</td>\n      <td>Berazategui</td>\n      <td>...</td>\n      <td>NaN</td>\n      <td>NaN</td>\n      <td>20.0</td>\n      <td>100.0</td>\n      <td>20.0</td>\n      <td>NaN</td>\n      <td>0</td>\n      <td>NaN</td>\n      <td>NaN</td>\n      <td>AMBA</td>\n    </tr>\n  </tbody>\n</table>\n<p>19332 rows × 32 columns</p>\n</div>"
     },
     "metadata": {},
     "output_type": "display_data"
    }
   ],
   "source": [
    "display(df_datos_generales_sitio)"
   ],
   "metadata": {
    "collapsed": false,
    "pycharm": {
     "name": "#%%\n"
    }
   }
  },
  {
   "cell_type": "markdown",
   "source": [
    "#### Definimos una función que, dado un EMG, devuelve el código de sitio correspondiente"
   ],
   "metadata": {
    "collapsed": false,
    "pycharm": {
     "name": "#%% md\n"
    }
   }
  },
  {
   "cell_type": "code",
   "execution_count": 69,
   "outputs": [],
   "source": [
    "# Observaciones:\n",
    "# 1. Si el EMG no es encontrado, se devuelve None\n",
    "# 2. Si el EMG aparece más de una vez en la lista, se devuelve el primer resultado\n",
    "def emg_to_sitename(emg):\n",
    "    # Filtramos las filas que tienen el emg especificado\n",
    "    rows = df_datos_generales_sitio.loc[df_datos_generales_sitio['EMG'] == emg]\n",
    "\n",
    "    # La cantidad de filas es 0 => no se encontró\n",
    "    if len(rows) == 0:\n",
    "        # Devolver None\n",
    "        return None\n",
    "    # La cantidad de filas es >= 1 => se encontraron una o más coincidencias\n",
    "    else:\n",
    "        # Devolver el primer resultado\n",
    "        return rows.iloc[0]['Código']"
   ],
   "metadata": {
    "collapsed": false,
    "pycharm": {
     "name": "#%%\n"
    }
   }
  },
  {
   "cell_type": "markdown",
   "source": [
    "#### Obtenemos la lista de códigos de sitios a partir de los EMGs"
   ],
   "metadata": {
    "collapsed": false,
    "pycharm": {
     "name": "#%% md\n"
    }
   }
  },
  {
   "cell_type": "code",
   "execution_count": 70,
   "outputs": [
    {
     "name": "stdout",
     "output_type": "stream",
     "text": [
      "['CI_068', 'CM060', 'CPU009', 'CPU023', 'CPU252', 'CPU385', 'CPU663', 'CPU748', 'CPU760', 'CPU837']\n"
     ]
    }
   ],
   "source": [
    "# Esta es una notación especial más compacta de Python para indicar un bucle sobre los elementos\n",
    "# del array. Es equivalente a escribir:\n",
    "#\n",
    "#    site_names = []\n",
    "#    for emg in emgs:\n",
    "#        site_name = emg_to_sitename(emg)\n",
    "#        site_names.append(site_name)\n",
    "#\n",
    "\n",
    "site_names = [emg_to_sitename(emg) for emg in emgs]\n",
    "print(site_names)"
   ],
   "metadata": {
    "collapsed": false,
    "pycharm": {
     "name": "#%%\n"
    }
   }
  },
  {
   "cell_type": "markdown",
   "source": [
    "#### Descargamos el reporte de Datos Outdoor de Ingenier@ para los códigos de sitio"
   ],
   "metadata": {
    "collapsed": false,
    "pycharm": {
     "name": "#%% md\n"
    }
   }
  },
  {
   "cell_type": "code",
   "execution_count": 71,
   "outputs": [],
   "source": [
    "# Llamamos al endpoint generic-report para obtener el reporte de datos outdoor del sitio seleccionado:\n",
    "\n",
    "# Parámetros en el payload de la request con que llamamos al endpoint de IGA:\n",
    "payload = {\n",
    "    # Nombre del reporte: datos_outdoor\n",
    "    \"reportName\": \"datos_outdoor\",\n",
    "    # Sitios seleccionados: los códigos de sitio que están almacenados en la variable site_names\n",
    "    \"siteNames\": site_names,\n",
    "    # Parámetros de filtrado: ninguno (objeto vacío: {})\n",
    "    \"filteringParams\": {},\n",
    "    # Seleccionar por nombres de sitio: sí\n",
    "    \"selectBySiteNames\": True,\n",
    "    # Seleccionar por parámetros de filtrado: no\n",
    "    \"selectByFilteringParams\": False\n",
    "}\n",
    "x = requests.post(iga_api_base_url + '/public/report/generic-report', json=payload)\n",
    "\n",
    "# En x almacenamos los datos devueltos por el endpoint de IGA. Es un archivo xlsx en formato binario\n",
    "\n",
    "# Usando pandas, con la función read_excel, leemos los datos y los almacenamos en memoria como un objeto de python:\n",
    "with io.BytesIO(x.content) as fh:\n",
    "    df = pd.read_excel(fh)"
   ],
   "metadata": {
    "collapsed": false,
    "pycharm": {
     "name": "#%%\n"
    }
   }
  },
  {
   "cell_type": "markdown",
   "source": [
    "#### Visualizamos los datos descargados (paso opcional)"
   ],
   "metadata": {
    "collapsed": false,
    "pycharm": {
     "name": "#%% md\n"
    }
   }
  },
  {
   "cell_type": "code",
   "execution_count": 72,
   "outputs": [
    {
     "data": {
      "text/plain": "<IPython.core.display.Markdown object>",
      "text/markdown": "# Datos Outdoor - Sitios seleccionados: 10"
     },
     "metadata": {},
     "output_type": "display_data"
    },
    {
     "data": {
      "text/plain": "<IPython.core.display.Markdown object>",
      "text/markdown": "### Tabla con orientación normal:"
     },
     "metadata": {},
     "output_type": "display_data"
    },
    {
     "data": {
      "text/plain": "    Proyecto  Código     Sector            Portadora        Estado  \\\n0       AMBA  CI_068  2LAVTPL1M     LTE FDD_AWS_2225     Operativo   \n1       AMBA  CI_068  2LAVTPL1N     LTE FDD_AWS_2225     Operativo   \n2       AMBA  CI_068  2LAVTPL1O     LTE FDD_AWS_2225     Operativo   \n3       AMBA  CI_068  2LAVTPM1M  LTE FDD_1900MHz_950     Operativo   \n4       AMBA  CI_068  2LAVTPM1N  LTE FDD_1900MHz_950     Operativo   \n..       ...     ...        ...                  ...           ...   \n225     AMBA  CPU837  CESMPHU12       WCDMA1900_9788  No Operativo   \n226     AMBA  CPU837  CESMPHU13       WCDMA1900_9788  No Operativo   \n227     AMBA  CPU837  CESMPHV21        WCDMA850_4358  No Operativo   \n228     AMBA  CPU837  CESMPHV22        WCDMA850_4358  No Operativo   \n229     AMBA  CPU837  CESMPHV23        WCDMA850_4358  No Operativo   \n\n     Latitud Antena  Longitud Antena  Id Antena Modelo Antena  Id Puerto  ...  \\\n0        -34.601700       -58.378100          1       5101300          2  ...   \n1        -34.601700       -58.378100          1       5101300          2  ...   \n2        -34.601700       -58.378100          1       5101300          2  ...   \n3        -34.601700       -58.378100          1       5101300          2  ...   \n4        -34.601700       -58.378100          1       5101300          2  ...   \n..              ...              ...        ...           ...        ...  ...   \n225      -34.602071       -58.378061          2  ASI4517R3v06          1  ...   \n226      -34.602071       -58.378061          3  ASI4517R3v06          1  ...   \n227      -34.602071       -58.378061          1  ASI4517R3v06          5  ...   \n228      -34.602071       -58.378061          2  ASI4517R3v06          5  ...   \n229      -34.602071       -58.378061          3  ASI4517R3v06          5  ...   \n\n    Altura Antena Azimuth Físico Azimuth Efectivo Tilt Mec.  Tilt Eléc.  \\\n0             3.0            0.0              0.0      -0.0         NaN   \n1             3.0            0.0              0.0      -0.0         NaN   \n2             3.0            0.0              0.0      -0.0         NaN   \n3             3.0            0.0              0.0      -0.0         NaN   \n4             3.0            0.0              0.0      -0.0         NaN   \n..            ...            ...              ...       ...         ...   \n225          41.0          220.0            221.0       6.0         6.0   \n226          41.0          340.0            341.0       4.0         6.0   \n227          41.0           90.0             95.0       4.0         8.0   \n228          41.0          220.0            225.0       6.0         8.0   \n229          41.0          340.0            345.0       4.0         8.0   \n\n     Twist  Ancho Horiz.  Ancho Vert.  Ganancia dBi  Cota de Terreno  \n0      0.0           360           32      6.500000            36.31  \n1      0.0           360           32      6.500000            36.31  \n2      0.0           360           32      6.500000            36.31  \n3      0.0           360           32      6.500000            36.31  \n4      0.0           360           32      6.500000            36.31  \n..     ...           ...          ...           ...              ...  \n225    0.0            63            9     15.526494            36.44  \n226    0.0            63            9     15.526494            36.44  \n227    0.0            62            9     15.230727            36.44  \n228    0.0            62            9     15.230727            36.44  \n229    0.0            62            9     15.230727            36.44  \n\n[230 rows x 26 columns]",
      "text/html": "<div>\n<style scoped>\n    .dataframe tbody tr th:only-of-type {\n        vertical-align: middle;\n    }\n\n    .dataframe tbody tr th {\n        vertical-align: top;\n    }\n\n    .dataframe thead th {\n        text-align: right;\n    }\n</style>\n<table border=\"1\" class=\"dataframe\">\n  <thead>\n    <tr style=\"text-align: right;\">\n      <th></th>\n      <th>Proyecto</th>\n      <th>Código</th>\n      <th>Sector</th>\n      <th>Portadora</th>\n      <th>Estado</th>\n      <th>Latitud Antena</th>\n      <th>Longitud Antena</th>\n      <th>Id Antena</th>\n      <th>Modelo Antena</th>\n      <th>Id Puerto</th>\n      <th>...</th>\n      <th>Altura Antena</th>\n      <th>Azimuth Físico</th>\n      <th>Azimuth Efectivo</th>\n      <th>Tilt Mec.</th>\n      <th>Tilt Eléc.</th>\n      <th>Twist</th>\n      <th>Ancho Horiz.</th>\n      <th>Ancho Vert.</th>\n      <th>Ganancia dBi</th>\n      <th>Cota de Terreno</th>\n    </tr>\n  </thead>\n  <tbody>\n    <tr>\n      <th>0</th>\n      <td>AMBA</td>\n      <td>CI_068</td>\n      <td>2LAVTPL1M</td>\n      <td>LTE FDD_AWS_2225</td>\n      <td>Operativo</td>\n      <td>-34.601700</td>\n      <td>-58.378100</td>\n      <td>1</td>\n      <td>5101300</td>\n      <td>2</td>\n      <td>...</td>\n      <td>3.0</td>\n      <td>0.0</td>\n      <td>0.0</td>\n      <td>-0.0</td>\n      <td>NaN</td>\n      <td>0.0</td>\n      <td>360</td>\n      <td>32</td>\n      <td>6.500000</td>\n      <td>36.31</td>\n    </tr>\n    <tr>\n      <th>1</th>\n      <td>AMBA</td>\n      <td>CI_068</td>\n      <td>2LAVTPL1N</td>\n      <td>LTE FDD_AWS_2225</td>\n      <td>Operativo</td>\n      <td>-34.601700</td>\n      <td>-58.378100</td>\n      <td>1</td>\n      <td>5101300</td>\n      <td>2</td>\n      <td>...</td>\n      <td>3.0</td>\n      <td>0.0</td>\n      <td>0.0</td>\n      <td>-0.0</td>\n      <td>NaN</td>\n      <td>0.0</td>\n      <td>360</td>\n      <td>32</td>\n      <td>6.500000</td>\n      <td>36.31</td>\n    </tr>\n    <tr>\n      <th>2</th>\n      <td>AMBA</td>\n      <td>CI_068</td>\n      <td>2LAVTPL1O</td>\n      <td>LTE FDD_AWS_2225</td>\n      <td>Operativo</td>\n      <td>-34.601700</td>\n      <td>-58.378100</td>\n      <td>1</td>\n      <td>5101300</td>\n      <td>2</td>\n      <td>...</td>\n      <td>3.0</td>\n      <td>0.0</td>\n      <td>0.0</td>\n      <td>-0.0</td>\n      <td>NaN</td>\n      <td>0.0</td>\n      <td>360</td>\n      <td>32</td>\n      <td>6.500000</td>\n      <td>36.31</td>\n    </tr>\n    <tr>\n      <th>3</th>\n      <td>AMBA</td>\n      <td>CI_068</td>\n      <td>2LAVTPM1M</td>\n      <td>LTE FDD_1900MHz_950</td>\n      <td>Operativo</td>\n      <td>-34.601700</td>\n      <td>-58.378100</td>\n      <td>1</td>\n      <td>5101300</td>\n      <td>2</td>\n      <td>...</td>\n      <td>3.0</td>\n      <td>0.0</td>\n      <td>0.0</td>\n      <td>-0.0</td>\n      <td>NaN</td>\n      <td>0.0</td>\n      <td>360</td>\n      <td>32</td>\n      <td>6.500000</td>\n      <td>36.31</td>\n    </tr>\n    <tr>\n      <th>4</th>\n      <td>AMBA</td>\n      <td>CI_068</td>\n      <td>2LAVTPM1N</td>\n      <td>LTE FDD_1900MHz_950</td>\n      <td>Operativo</td>\n      <td>-34.601700</td>\n      <td>-58.378100</td>\n      <td>1</td>\n      <td>5101300</td>\n      <td>2</td>\n      <td>...</td>\n      <td>3.0</td>\n      <td>0.0</td>\n      <td>0.0</td>\n      <td>-0.0</td>\n      <td>NaN</td>\n      <td>0.0</td>\n      <td>360</td>\n      <td>32</td>\n      <td>6.500000</td>\n      <td>36.31</td>\n    </tr>\n    <tr>\n      <th>...</th>\n      <td>...</td>\n      <td>...</td>\n      <td>...</td>\n      <td>...</td>\n      <td>...</td>\n      <td>...</td>\n      <td>...</td>\n      <td>...</td>\n      <td>...</td>\n      <td>...</td>\n      <td>...</td>\n      <td>...</td>\n      <td>...</td>\n      <td>...</td>\n      <td>...</td>\n      <td>...</td>\n      <td>...</td>\n      <td>...</td>\n      <td>...</td>\n      <td>...</td>\n      <td>...</td>\n    </tr>\n    <tr>\n      <th>225</th>\n      <td>AMBA</td>\n      <td>CPU837</td>\n      <td>CESMPHU12</td>\n      <td>WCDMA1900_9788</td>\n      <td>No Operativo</td>\n      <td>-34.602071</td>\n      <td>-58.378061</td>\n      <td>2</td>\n      <td>ASI4517R3v06</td>\n      <td>1</td>\n      <td>...</td>\n      <td>41.0</td>\n      <td>220.0</td>\n      <td>221.0</td>\n      <td>6.0</td>\n      <td>6.0</td>\n      <td>0.0</td>\n      <td>63</td>\n      <td>9</td>\n      <td>15.526494</td>\n      <td>36.44</td>\n    </tr>\n    <tr>\n      <th>226</th>\n      <td>AMBA</td>\n      <td>CPU837</td>\n      <td>CESMPHU13</td>\n      <td>WCDMA1900_9788</td>\n      <td>No Operativo</td>\n      <td>-34.602071</td>\n      <td>-58.378061</td>\n      <td>3</td>\n      <td>ASI4517R3v06</td>\n      <td>1</td>\n      <td>...</td>\n      <td>41.0</td>\n      <td>340.0</td>\n      <td>341.0</td>\n      <td>4.0</td>\n      <td>6.0</td>\n      <td>0.0</td>\n      <td>63</td>\n      <td>9</td>\n      <td>15.526494</td>\n      <td>36.44</td>\n    </tr>\n    <tr>\n      <th>227</th>\n      <td>AMBA</td>\n      <td>CPU837</td>\n      <td>CESMPHV21</td>\n      <td>WCDMA850_4358</td>\n      <td>No Operativo</td>\n      <td>-34.602071</td>\n      <td>-58.378061</td>\n      <td>1</td>\n      <td>ASI4517R3v06</td>\n      <td>5</td>\n      <td>...</td>\n      <td>41.0</td>\n      <td>90.0</td>\n      <td>95.0</td>\n      <td>4.0</td>\n      <td>8.0</td>\n      <td>0.0</td>\n      <td>62</td>\n      <td>9</td>\n      <td>15.230727</td>\n      <td>36.44</td>\n    </tr>\n    <tr>\n      <th>228</th>\n      <td>AMBA</td>\n      <td>CPU837</td>\n      <td>CESMPHV22</td>\n      <td>WCDMA850_4358</td>\n      <td>No Operativo</td>\n      <td>-34.602071</td>\n      <td>-58.378061</td>\n      <td>2</td>\n      <td>ASI4517R3v06</td>\n      <td>5</td>\n      <td>...</td>\n      <td>41.0</td>\n      <td>220.0</td>\n      <td>225.0</td>\n      <td>6.0</td>\n      <td>8.0</td>\n      <td>0.0</td>\n      <td>62</td>\n      <td>9</td>\n      <td>15.230727</td>\n      <td>36.44</td>\n    </tr>\n    <tr>\n      <th>229</th>\n      <td>AMBA</td>\n      <td>CPU837</td>\n      <td>CESMPHV23</td>\n      <td>WCDMA850_4358</td>\n      <td>No Operativo</td>\n      <td>-34.602071</td>\n      <td>-58.378061</td>\n      <td>3</td>\n      <td>ASI4517R3v06</td>\n      <td>5</td>\n      <td>...</td>\n      <td>41.0</td>\n      <td>340.0</td>\n      <td>345.0</td>\n      <td>4.0</td>\n      <td>8.0</td>\n      <td>0.0</td>\n      <td>62</td>\n      <td>9</td>\n      <td>15.230727</td>\n      <td>36.44</td>\n    </tr>\n  </tbody>\n</table>\n<p>230 rows × 26 columns</p>\n</div>"
     },
     "metadata": {},
     "output_type": "display_data"
    },
    {
     "data": {
      "text/plain": "<IPython.core.display.Markdown object>",
      "text/markdown": "### Tabla transpuesta:"
     },
     "metadata": {},
     "output_type": "display_data"
    },
    {
     "data": {
      "text/plain": "                                  0                 1                 2    \\\nProyecto                         AMBA              AMBA              AMBA   \nCódigo                         CI_068            CI_068            CI_068   \nSector                      2LAVTPL1M         2LAVTPL1N         2LAVTPL1O   \nPortadora            LTE FDD_AWS_2225  LTE FDD_AWS_2225  LTE FDD_AWS_2225   \nEstado                      Operativo         Operativo         Operativo   \nLatitud Antena               -34.6017          -34.6017          -34.6017   \nLongitud Antena              -58.3781          -58.3781          -58.3781   \nId Antena                           1                 1                 1   \nModelo Antena                 5101300           5101300           5101300   \nId Puerto                           2                 2                 2   \nId Puertos Uplink                   2                 2                 2   \nId Puertos Downlink                 2                 2                 2   \nConfig. Puertos                 1Rx1T             1Rx1T             1Rx1T   \nControlador Eléc                  NaN               NaN               NaN   \nFrec. Mín.                       1900              1900              1900   \nFrec. Máx.                       2100              2100              2100   \nAltura Antena                     3.0               3.0               3.0   \nAzimuth Físico                    0.0               0.0               0.0   \nAzimuth Efectivo                  0.0               0.0               0.0   \nTilt Mec.                        -0.0              -0.0              -0.0   \nTilt Eléc.                        NaN               NaN               NaN   \nTwist                             0.0               0.0               0.0   \nAncho Horiz.                      360               360               360   \nAncho Vert.                        32                32                32   \nGanancia dBi                      6.5               6.5               6.5   \nCota de Terreno                 36.31             36.31             36.31   \n\n                                     3                    4    \\\nProyecto                            AMBA                 AMBA   \nCódigo                            CI_068               CI_068   \nSector                         2LAVTPM1M            2LAVTPM1N   \nPortadora            LTE FDD_1900MHz_950  LTE FDD_1900MHz_950   \nEstado                         Operativo            Operativo   \nLatitud Antena                  -34.6017             -34.6017   \nLongitud Antena                 -58.3781             -58.3781   \nId Antena                              1                    1   \nModelo Antena                    5101300              5101300   \nId Puerto                              2                    2   \nId Puertos Uplink                      2                    2   \nId Puertos Downlink                    2                    2   \nConfig. Puertos                    1Rx1T                1Rx1T   \nControlador Eléc                     NaN                  NaN   \nFrec. Mín.                          1900                 1900   \nFrec. Máx.                          2100                 2100   \nAltura Antena                        3.0                  3.0   \nAzimuth Físico                       0.0                  0.0   \nAzimuth Efectivo                     0.0                  0.0   \nTilt Mec.                           -0.0                 -0.0   \nTilt Eléc.                           NaN                  NaN   \nTwist                                0.0                  0.0   \nAncho Horiz.                         360                  360   \nAncho Vert.                           32                   32   \nGanancia dBi                         6.5                  6.5   \nCota de Terreno                    36.31                36.31   \n\n                                     5               6               7    \\\nProyecto                            AMBA            AMBA            AMBA   \nCódigo                            CI_068          CI_068          CI_068   \nSector                         2LAVTPM1O       2LAVTPU1M       2LAVTPU1N   \nPortadora            LTE FDD_1900MHz_950  WCDMA1900_9788  WCDMA1900_9788   \nEstado                         Operativo       Operativo       Operativo   \nLatitud Antena                  -34.6017        -34.6017        -34.6017   \nLongitud Antena                 -58.3781        -58.3781        -58.3781   \nId Antena                              1               1               1   \nModelo Antena                    5101300         5101300         5101300   \nId Puerto                              2               2               2   \nId Puertos Uplink                      2               2               2   \nId Puertos Downlink                    2               2               2   \nConfig. Puertos                    1Rx1T           1Rx1T           1Rx1T   \nControlador Eléc                     NaN             NaN             NaN   \nFrec. Mín.                          1900            1900            1900   \nFrec. Máx.                          2100            2100            2100   \nAltura Antena                        3.0             3.0             3.0   \nAzimuth Físico                       0.0             0.0             0.0   \nAzimuth Efectivo                     0.0             0.0             0.0   \nTilt Mec.                           -0.0            -0.0            -0.0   \nTilt Eléc.                           NaN             NaN             NaN   \nTwist                                0.0             0.0             0.0   \nAncho Horiz.                         360             360             360   \nAncho Vert.                           32              32              32   \nGanancia dBi                         6.5             6.5             6.5   \nCota de Terreno                    36.31           36.31           36.31   \n\n                                8                 9    ...  \\\nProyecto                       AMBA              AMBA  ...   \nCódigo                       CI_068             CM060  ...   \nSector                    2LAVTPU1O         CCSUTPL1A  ...   \nPortadora            WCDMA1900_9788  LTE FDD_AWS_2225  ...   \nEstado                    Operativo         Operativo  ...   \nLatitud Antena             -34.6017        -34.598859  ...   \nLongitud Antena            -58.3781        -58.380307  ...   \nId Antena                         1                 1  ...   \nModelo Antena               5101300           5101300  ...   \nId Puerto                         2                 2  ...   \nId Puertos Uplink                 2                 2  ...   \nId Puertos Downlink               2                 2  ...   \nConfig. Puertos               1Rx1T             1Rx1T  ...   \nControlador Eléc                NaN               NaN  ...   \nFrec. Mín.                     1900              1900  ...   \nFrec. Máx.                     2100              2100  ...   \nAltura Antena                   3.0               5.0  ...   \nAzimuth Físico                  0.0               0.0  ...   \nAzimuth Efectivo                0.0               0.0  ...   \nTilt Mec.                      -0.0              -0.0  ...   \nTilt Eléc.                      NaN               NaN  ...   \nTwist                           0.0               0.0  ...   \nAncho Horiz.                    360               360  ...   \nAncho Vert.                      32                32  ...   \nGanancia dBi                    6.5               6.5  ...   \nCota de Terreno               36.31             32.65  ...   \n\n                                                       220  \\\nProyecto                                              AMBA   \nCódigo                                              CPU837   \nSector                                           CESMPHN13   \nPortadora                              LTE FDD_700MHz_9360   \nEstado                                        No Operativo   \nLatitud Antena                                  -34.602071   \nLongitud Antena                                 -58.378061   \nId Antena                                                3   \nModelo Antena                                 ASI4517R3v06   \nId Puerto                                                5   \nId Puertos Uplink                                5,6,11,12   \nId Puertos Downlink                              5,6,11,12   \nConfig. Puertos                                      4Rx4T   \nControlador Eléc     Controller 3 Port 5-6 Lr1 690-960 MHz   \nFrec. Mín.                                             690   \nFrec. Máx.                                             960   \nAltura Antena                                         41.0   \nAzimuth Físico                                       340.0   \nAzimuth Efectivo                                     345.0   \nTilt Mec.                                              4.0   \nTilt Eléc.                                             8.0   \nTwist                                                  0.0   \nAncho Horiz.                                            62   \nAncho Vert.                                              9   \nGanancia dBi                                     15.230727   \nCota de Terreno                                      36.44   \n\n                                                       221  \\\nProyecto                                              AMBA   \nCódigo                                              CPU837   \nSector                                           CESMPHO11   \nPortadora                              LTE FDD_850MHz_2474   \nEstado                                        No Operativo   \nLatitud Antena                                  -34.602071   \nLongitud Antena                                 -58.378061   \nId Antena                                                1   \nModelo Antena                                 ASI4517R3v06   \nId Puerto                                                5   \nId Puertos Uplink                                5,6,11,12   \nId Puertos Downlink                              5,6,11,12   \nConfig. Puertos                                      4Rx4T   \nControlador Eléc     Controller 3 Port 5-6 Lr1 690-960 MHz   \nFrec. Mín.                                             690   \nFrec. Máx.                                             960   \nAltura Antena                                         41.0   \nAzimuth Físico                                        90.0   \nAzimuth Efectivo                                      95.0   \nTilt Mec.                                              4.0   \nTilt Eléc.                                             8.0   \nTwist                                                  0.0   \nAncho Horiz.                                            62   \nAncho Vert.                                              9   \nGanancia dBi                                     15.230727   \nCota de Terreno                                      36.44   \n\n                                                       222  \\\nProyecto                                              AMBA   \nCódigo                                              CPU837   \nSector                                           CESMPHO12   \nPortadora                              LTE FDD_850MHz_2474   \nEstado                                        No Operativo   \nLatitud Antena                                  -34.602071   \nLongitud Antena                                 -58.378061   \nId Antena                                                2   \nModelo Antena                                 ASI4517R3v06   \nId Puerto                                                5   \nId Puertos Uplink                                5,6,11,12   \nId Puertos Downlink                              5,6,11,12   \nConfig. Puertos                                      4Rx4T   \nControlador Eléc     Controller 3 Port 5-6 Lr1 690-960 MHz   \nFrec. Mín.                                             690   \nFrec. Máx.                                             960   \nAltura Antena                                         41.0   \nAzimuth Físico                                       220.0   \nAzimuth Efectivo                                     225.0   \nTilt Mec.                                              6.0   \nTilt Eléc.                                             8.0   \nTwist                                                  0.0   \nAncho Horiz.                                            62   \nAncho Vert.                                              9   \nGanancia dBi                                     15.230727   \nCota de Terreno                                      36.44   \n\n                                                       223  \\\nProyecto                                              AMBA   \nCódigo                                              CPU837   \nSector                                           CESMPHO13   \nPortadora                              LTE FDD_850MHz_2474   \nEstado                                        No Operativo   \nLatitud Antena                                  -34.602071   \nLongitud Antena                                 -58.378061   \nId Antena                                                3   \nModelo Antena                                 ASI4517R3v06   \nId Puerto                                                5   \nId Puertos Uplink                                5,6,11,12   \nId Puertos Downlink                              5,6,11,12   \nConfig. Puertos                                      4Rx4T   \nControlador Eléc     Controller 3 Port 5-6 Lr1 690-960 MHz   \nFrec. Mín.                                             690   \nFrec. Máx.                                             960   \nAltura Antena                                         41.0   \nAzimuth Físico                                       340.0   \nAzimuth Efectivo                                     345.0   \nTilt Mec.                                              4.0   \nTilt Eléc.                                             8.0   \nTwist                                                  0.0   \nAncho Horiz.                                            62   \nAncho Vert.                                              9   \nGanancia dBi                                     15.230727   \nCota de Terreno                                      36.44   \n\n                                                          224  \\\nProyecto                                                 AMBA   \nCódigo                                                 CPU837   \nSector                                              CESMPHU11   \nPortadora                                      WCDMA1900_9788   \nEstado                                           No Operativo   \nLatitud Antena                                     -34.602071   \nLongitud Antena                                    -58.378061   \nId Antena                                                   1   \nModelo Antena                                    ASI4517R3v06   \nId Puerto                                                   1   \nId Puertos Uplink                                    1,2,9,10   \nId Puertos Downlink                                  1,2,9,10   \nConfig. Puertos                                         4Rx4T   \nControlador Eléc     Controller 1 Port 1-2 LBy1 1695-2690 MHz   \nFrec. Mín.                                               1695   \nFrec. Máx.                                               2690   \nAltura Antena                                            41.0   \nAzimuth Físico                                           90.0   \nAzimuth Efectivo                                         91.0   \nTilt Mec.                                                 4.0   \nTilt Eléc.                                                6.0   \nTwist                                                     0.0   \nAncho Horiz.                                               63   \nAncho Vert.                                                 9   \nGanancia dBi                                        15.526494   \nCota de Terreno                                         36.44   \n\n                                                          225  \\\nProyecto                                                 AMBA   \nCódigo                                                 CPU837   \nSector                                              CESMPHU12   \nPortadora                                      WCDMA1900_9788   \nEstado                                           No Operativo   \nLatitud Antena                                     -34.602071   \nLongitud Antena                                    -58.378061   \nId Antena                                                   2   \nModelo Antena                                    ASI4517R3v06   \nId Puerto                                                   1   \nId Puertos Uplink                                    1,2,9,10   \nId Puertos Downlink                                  1,2,9,10   \nConfig. Puertos                                         4Rx4T   \nControlador Eléc     Controller 1 Port 1-2 LBy1 1695-2690 MHz   \nFrec. Mín.                                               1695   \nFrec. Máx.                                               2690   \nAltura Antena                                            41.0   \nAzimuth Físico                                          220.0   \nAzimuth Efectivo                                        221.0   \nTilt Mec.                                                 6.0   \nTilt Eléc.                                                6.0   \nTwist                                                     0.0   \nAncho Horiz.                                               63   \nAncho Vert.                                                 9   \nGanancia dBi                                        15.526494   \nCota de Terreno                                         36.44   \n\n                                                          226  \\\nProyecto                                                 AMBA   \nCódigo                                                 CPU837   \nSector                                              CESMPHU13   \nPortadora                                      WCDMA1900_9788   \nEstado                                           No Operativo   \nLatitud Antena                                     -34.602071   \nLongitud Antena                                    -58.378061   \nId Antena                                                   3   \nModelo Antena                                    ASI4517R3v06   \nId Puerto                                                   1   \nId Puertos Uplink                                    1,2,9,10   \nId Puertos Downlink                                  1,2,9,10   \nConfig. Puertos                                         4Rx4T   \nControlador Eléc     Controller 1 Port 1-2 LBy1 1695-2690 MHz   \nFrec. Mín.                                               1695   \nFrec. Máx.                                               2690   \nAltura Antena                                            41.0   \nAzimuth Físico                                          340.0   \nAzimuth Efectivo                                        341.0   \nTilt Mec.                                                 4.0   \nTilt Eléc.                                                6.0   \nTwist                                                     0.0   \nAncho Horiz.                                               63   \nAncho Vert.                                                 9   \nGanancia dBi                                        15.526494   \nCota de Terreno                                         36.44   \n\n                                                       227  \\\nProyecto                                              AMBA   \nCódigo                                              CPU837   \nSector                                           CESMPHV21   \nPortadora                                    WCDMA850_4358   \nEstado                                        No Operativo   \nLatitud Antena                                  -34.602071   \nLongitud Antena                                 -58.378061   \nId Antena                                                1   \nModelo Antena                                 ASI4517R3v06   \nId Puerto                                                5   \nId Puertos Uplink                                5,6,11,12   \nId Puertos Downlink                              5,6,11,12   \nConfig. Puertos                                      4Rx4T   \nControlador Eléc     Controller 3 Port 5-6 Lr1 690-960 MHz   \nFrec. Mín.                                             690   \nFrec. Máx.                                             960   \nAltura Antena                                         41.0   \nAzimuth Físico                                        90.0   \nAzimuth Efectivo                                      95.0   \nTilt Mec.                                              4.0   \nTilt Eléc.                                             8.0   \nTwist                                                  0.0   \nAncho Horiz.                                            62   \nAncho Vert.                                              9   \nGanancia dBi                                     15.230727   \nCota de Terreno                                      36.44   \n\n                                                       228  \\\nProyecto                                              AMBA   \nCódigo                                              CPU837   \nSector                                           CESMPHV22   \nPortadora                                    WCDMA850_4358   \nEstado                                        No Operativo   \nLatitud Antena                                  -34.602071   \nLongitud Antena                                 -58.378061   \nId Antena                                                2   \nModelo Antena                                 ASI4517R3v06   \nId Puerto                                                5   \nId Puertos Uplink                                5,6,11,12   \nId Puertos Downlink                              5,6,11,12   \nConfig. Puertos                                      4Rx4T   \nControlador Eléc     Controller 3 Port 5-6 Lr1 690-960 MHz   \nFrec. Mín.                                             690   \nFrec. Máx.                                             960   \nAltura Antena                                         41.0   \nAzimuth Físico                                       220.0   \nAzimuth Efectivo                                     225.0   \nTilt Mec.                                              6.0   \nTilt Eléc.                                             8.0   \nTwist                                                  0.0   \nAncho Horiz.                                            62   \nAncho Vert.                                              9   \nGanancia dBi                                     15.230727   \nCota de Terreno                                      36.44   \n\n                                                       229  \nProyecto                                              AMBA  \nCódigo                                              CPU837  \nSector                                           CESMPHV23  \nPortadora                                    WCDMA850_4358  \nEstado                                        No Operativo  \nLatitud Antena                                  -34.602071  \nLongitud Antena                                 -58.378061  \nId Antena                                                3  \nModelo Antena                                 ASI4517R3v06  \nId Puerto                                                5  \nId Puertos Uplink                                5,6,11,12  \nId Puertos Downlink                              5,6,11,12  \nConfig. Puertos                                      4Rx4T  \nControlador Eléc     Controller 3 Port 5-6 Lr1 690-960 MHz  \nFrec. Mín.                                             690  \nFrec. Máx.                                             960  \nAltura Antena                                         41.0  \nAzimuth Físico                                       340.0  \nAzimuth Efectivo                                     345.0  \nTilt Mec.                                              4.0  \nTilt Eléc.                                             8.0  \nTwist                                                  0.0  \nAncho Horiz.                                            62  \nAncho Vert.                                              9  \nGanancia dBi                                     15.230727  \nCota de Terreno                                      36.44  \n\n[26 rows x 230 columns]",
      "text/html": "<div>\n<style scoped>\n    .dataframe tbody tr th:only-of-type {\n        vertical-align: middle;\n    }\n\n    .dataframe tbody tr th {\n        vertical-align: top;\n    }\n\n    .dataframe thead th {\n        text-align: right;\n    }\n</style>\n<table border=\"1\" class=\"dataframe\">\n  <thead>\n    <tr style=\"text-align: right;\">\n      <th></th>\n      <th>0</th>\n      <th>1</th>\n      <th>2</th>\n      <th>3</th>\n      <th>4</th>\n      <th>5</th>\n      <th>6</th>\n      <th>7</th>\n      <th>8</th>\n      <th>9</th>\n      <th>...</th>\n      <th>220</th>\n      <th>221</th>\n      <th>222</th>\n      <th>223</th>\n      <th>224</th>\n      <th>225</th>\n      <th>226</th>\n      <th>227</th>\n      <th>228</th>\n      <th>229</th>\n    </tr>\n  </thead>\n  <tbody>\n    <tr>\n      <th>Proyecto</th>\n      <td>AMBA</td>\n      <td>AMBA</td>\n      <td>AMBA</td>\n      <td>AMBA</td>\n      <td>AMBA</td>\n      <td>AMBA</td>\n      <td>AMBA</td>\n      <td>AMBA</td>\n      <td>AMBA</td>\n      <td>AMBA</td>\n      <td>...</td>\n      <td>AMBA</td>\n      <td>AMBA</td>\n      <td>AMBA</td>\n      <td>AMBA</td>\n      <td>AMBA</td>\n      <td>AMBA</td>\n      <td>AMBA</td>\n      <td>AMBA</td>\n      <td>AMBA</td>\n      <td>AMBA</td>\n    </tr>\n    <tr>\n      <th>Código</th>\n      <td>CI_068</td>\n      <td>CI_068</td>\n      <td>CI_068</td>\n      <td>CI_068</td>\n      <td>CI_068</td>\n      <td>CI_068</td>\n      <td>CI_068</td>\n      <td>CI_068</td>\n      <td>CI_068</td>\n      <td>CM060</td>\n      <td>...</td>\n      <td>CPU837</td>\n      <td>CPU837</td>\n      <td>CPU837</td>\n      <td>CPU837</td>\n      <td>CPU837</td>\n      <td>CPU837</td>\n      <td>CPU837</td>\n      <td>CPU837</td>\n      <td>CPU837</td>\n      <td>CPU837</td>\n    </tr>\n    <tr>\n      <th>Sector</th>\n      <td>2LAVTPL1M</td>\n      <td>2LAVTPL1N</td>\n      <td>2LAVTPL1O</td>\n      <td>2LAVTPM1M</td>\n      <td>2LAVTPM1N</td>\n      <td>2LAVTPM1O</td>\n      <td>2LAVTPU1M</td>\n      <td>2LAVTPU1N</td>\n      <td>2LAVTPU1O</td>\n      <td>CCSUTPL1A</td>\n      <td>...</td>\n      <td>CESMPHN13</td>\n      <td>CESMPHO11</td>\n      <td>CESMPHO12</td>\n      <td>CESMPHO13</td>\n      <td>CESMPHU11</td>\n      <td>CESMPHU12</td>\n      <td>CESMPHU13</td>\n      <td>CESMPHV21</td>\n      <td>CESMPHV22</td>\n      <td>CESMPHV23</td>\n    </tr>\n    <tr>\n      <th>Portadora</th>\n      <td>LTE FDD_AWS_2225</td>\n      <td>LTE FDD_AWS_2225</td>\n      <td>LTE FDD_AWS_2225</td>\n      <td>LTE FDD_1900MHz_950</td>\n      <td>LTE FDD_1900MHz_950</td>\n      <td>LTE FDD_1900MHz_950</td>\n      <td>WCDMA1900_9788</td>\n      <td>WCDMA1900_9788</td>\n      <td>WCDMA1900_9788</td>\n      <td>LTE FDD_AWS_2225</td>\n      <td>...</td>\n      <td>LTE FDD_700MHz_9360</td>\n      <td>LTE FDD_850MHz_2474</td>\n      <td>LTE FDD_850MHz_2474</td>\n      <td>LTE FDD_850MHz_2474</td>\n      <td>WCDMA1900_9788</td>\n      <td>WCDMA1900_9788</td>\n      <td>WCDMA1900_9788</td>\n      <td>WCDMA850_4358</td>\n      <td>WCDMA850_4358</td>\n      <td>WCDMA850_4358</td>\n    </tr>\n    <tr>\n      <th>Estado</th>\n      <td>Operativo</td>\n      <td>Operativo</td>\n      <td>Operativo</td>\n      <td>Operativo</td>\n      <td>Operativo</td>\n      <td>Operativo</td>\n      <td>Operativo</td>\n      <td>Operativo</td>\n      <td>Operativo</td>\n      <td>Operativo</td>\n      <td>...</td>\n      <td>No Operativo</td>\n      <td>No Operativo</td>\n      <td>No Operativo</td>\n      <td>No Operativo</td>\n      <td>No Operativo</td>\n      <td>No Operativo</td>\n      <td>No Operativo</td>\n      <td>No Operativo</td>\n      <td>No Operativo</td>\n      <td>No Operativo</td>\n    </tr>\n    <tr>\n      <th>Latitud Antena</th>\n      <td>-34.6017</td>\n      <td>-34.6017</td>\n      <td>-34.6017</td>\n      <td>-34.6017</td>\n      <td>-34.6017</td>\n      <td>-34.6017</td>\n      <td>-34.6017</td>\n      <td>-34.6017</td>\n      <td>-34.6017</td>\n      <td>-34.598859</td>\n      <td>...</td>\n      <td>-34.602071</td>\n      <td>-34.602071</td>\n      <td>-34.602071</td>\n      <td>-34.602071</td>\n      <td>-34.602071</td>\n      <td>-34.602071</td>\n      <td>-34.602071</td>\n      <td>-34.602071</td>\n      <td>-34.602071</td>\n      <td>-34.602071</td>\n    </tr>\n    <tr>\n      <th>Longitud Antena</th>\n      <td>-58.3781</td>\n      <td>-58.3781</td>\n      <td>-58.3781</td>\n      <td>-58.3781</td>\n      <td>-58.3781</td>\n      <td>-58.3781</td>\n      <td>-58.3781</td>\n      <td>-58.3781</td>\n      <td>-58.3781</td>\n      <td>-58.380307</td>\n      <td>...</td>\n      <td>-58.378061</td>\n      <td>-58.378061</td>\n      <td>-58.378061</td>\n      <td>-58.378061</td>\n      <td>-58.378061</td>\n      <td>-58.378061</td>\n      <td>-58.378061</td>\n      <td>-58.378061</td>\n      <td>-58.378061</td>\n      <td>-58.378061</td>\n    </tr>\n    <tr>\n      <th>Id Antena</th>\n      <td>1</td>\n      <td>1</td>\n      <td>1</td>\n      <td>1</td>\n      <td>1</td>\n      <td>1</td>\n      <td>1</td>\n      <td>1</td>\n      <td>1</td>\n      <td>1</td>\n      <td>...</td>\n      <td>3</td>\n      <td>1</td>\n      <td>2</td>\n      <td>3</td>\n      <td>1</td>\n      <td>2</td>\n      <td>3</td>\n      <td>1</td>\n      <td>2</td>\n      <td>3</td>\n    </tr>\n    <tr>\n      <th>Modelo Antena</th>\n      <td>5101300</td>\n      <td>5101300</td>\n      <td>5101300</td>\n      <td>5101300</td>\n      <td>5101300</td>\n      <td>5101300</td>\n      <td>5101300</td>\n      <td>5101300</td>\n      <td>5101300</td>\n      <td>5101300</td>\n      <td>...</td>\n      <td>ASI4517R3v06</td>\n      <td>ASI4517R3v06</td>\n      <td>ASI4517R3v06</td>\n      <td>ASI4517R3v06</td>\n      <td>ASI4517R3v06</td>\n      <td>ASI4517R3v06</td>\n      <td>ASI4517R3v06</td>\n      <td>ASI4517R3v06</td>\n      <td>ASI4517R3v06</td>\n      <td>ASI4517R3v06</td>\n    </tr>\n    <tr>\n      <th>Id Puerto</th>\n      <td>2</td>\n      <td>2</td>\n      <td>2</td>\n      <td>2</td>\n      <td>2</td>\n      <td>2</td>\n      <td>2</td>\n      <td>2</td>\n      <td>2</td>\n      <td>2</td>\n      <td>...</td>\n      <td>5</td>\n      <td>5</td>\n      <td>5</td>\n      <td>5</td>\n      <td>1</td>\n      <td>1</td>\n      <td>1</td>\n      <td>5</td>\n      <td>5</td>\n      <td>5</td>\n    </tr>\n    <tr>\n      <th>Id Puertos Uplink</th>\n      <td>2</td>\n      <td>2</td>\n      <td>2</td>\n      <td>2</td>\n      <td>2</td>\n      <td>2</td>\n      <td>2</td>\n      <td>2</td>\n      <td>2</td>\n      <td>2</td>\n      <td>...</td>\n      <td>5,6,11,12</td>\n      <td>5,6,11,12</td>\n      <td>5,6,11,12</td>\n      <td>5,6,11,12</td>\n      <td>1,2,9,10</td>\n      <td>1,2,9,10</td>\n      <td>1,2,9,10</td>\n      <td>5,6,11,12</td>\n      <td>5,6,11,12</td>\n      <td>5,6,11,12</td>\n    </tr>\n    <tr>\n      <th>Id Puertos Downlink</th>\n      <td>2</td>\n      <td>2</td>\n      <td>2</td>\n      <td>2</td>\n      <td>2</td>\n      <td>2</td>\n      <td>2</td>\n      <td>2</td>\n      <td>2</td>\n      <td>2</td>\n      <td>...</td>\n      <td>5,6,11,12</td>\n      <td>5,6,11,12</td>\n      <td>5,6,11,12</td>\n      <td>5,6,11,12</td>\n      <td>1,2,9,10</td>\n      <td>1,2,9,10</td>\n      <td>1,2,9,10</td>\n      <td>5,6,11,12</td>\n      <td>5,6,11,12</td>\n      <td>5,6,11,12</td>\n    </tr>\n    <tr>\n      <th>Config. Puertos</th>\n      <td>1Rx1T</td>\n      <td>1Rx1T</td>\n      <td>1Rx1T</td>\n      <td>1Rx1T</td>\n      <td>1Rx1T</td>\n      <td>1Rx1T</td>\n      <td>1Rx1T</td>\n      <td>1Rx1T</td>\n      <td>1Rx1T</td>\n      <td>1Rx1T</td>\n      <td>...</td>\n      <td>4Rx4T</td>\n      <td>4Rx4T</td>\n      <td>4Rx4T</td>\n      <td>4Rx4T</td>\n      <td>4Rx4T</td>\n      <td>4Rx4T</td>\n      <td>4Rx4T</td>\n      <td>4Rx4T</td>\n      <td>4Rx4T</td>\n      <td>4Rx4T</td>\n    </tr>\n    <tr>\n      <th>Controlador Eléc</th>\n      <td>NaN</td>\n      <td>NaN</td>\n      <td>NaN</td>\n      <td>NaN</td>\n      <td>NaN</td>\n      <td>NaN</td>\n      <td>NaN</td>\n      <td>NaN</td>\n      <td>NaN</td>\n      <td>NaN</td>\n      <td>...</td>\n      <td>Controller 3 Port 5-6 Lr1 690-960 MHz</td>\n      <td>Controller 3 Port 5-6 Lr1 690-960 MHz</td>\n      <td>Controller 3 Port 5-6 Lr1 690-960 MHz</td>\n      <td>Controller 3 Port 5-6 Lr1 690-960 MHz</td>\n      <td>Controller 1 Port 1-2 LBy1 1695-2690 MHz</td>\n      <td>Controller 1 Port 1-2 LBy1 1695-2690 MHz</td>\n      <td>Controller 1 Port 1-2 LBy1 1695-2690 MHz</td>\n      <td>Controller 3 Port 5-6 Lr1 690-960 MHz</td>\n      <td>Controller 3 Port 5-6 Lr1 690-960 MHz</td>\n      <td>Controller 3 Port 5-6 Lr1 690-960 MHz</td>\n    </tr>\n    <tr>\n      <th>Frec. Mín.</th>\n      <td>1900</td>\n      <td>1900</td>\n      <td>1900</td>\n      <td>1900</td>\n      <td>1900</td>\n      <td>1900</td>\n      <td>1900</td>\n      <td>1900</td>\n      <td>1900</td>\n      <td>1900</td>\n      <td>...</td>\n      <td>690</td>\n      <td>690</td>\n      <td>690</td>\n      <td>690</td>\n      <td>1695</td>\n      <td>1695</td>\n      <td>1695</td>\n      <td>690</td>\n      <td>690</td>\n      <td>690</td>\n    </tr>\n    <tr>\n      <th>Frec. Máx.</th>\n      <td>2100</td>\n      <td>2100</td>\n      <td>2100</td>\n      <td>2100</td>\n      <td>2100</td>\n      <td>2100</td>\n      <td>2100</td>\n      <td>2100</td>\n      <td>2100</td>\n      <td>2100</td>\n      <td>...</td>\n      <td>960</td>\n      <td>960</td>\n      <td>960</td>\n      <td>960</td>\n      <td>2690</td>\n      <td>2690</td>\n      <td>2690</td>\n      <td>960</td>\n      <td>960</td>\n      <td>960</td>\n    </tr>\n    <tr>\n      <th>Altura Antena</th>\n      <td>3.0</td>\n      <td>3.0</td>\n      <td>3.0</td>\n      <td>3.0</td>\n      <td>3.0</td>\n      <td>3.0</td>\n      <td>3.0</td>\n      <td>3.0</td>\n      <td>3.0</td>\n      <td>5.0</td>\n      <td>...</td>\n      <td>41.0</td>\n      <td>41.0</td>\n      <td>41.0</td>\n      <td>41.0</td>\n      <td>41.0</td>\n      <td>41.0</td>\n      <td>41.0</td>\n      <td>41.0</td>\n      <td>41.0</td>\n      <td>41.0</td>\n    </tr>\n    <tr>\n      <th>Azimuth Físico</th>\n      <td>0.0</td>\n      <td>0.0</td>\n      <td>0.0</td>\n      <td>0.0</td>\n      <td>0.0</td>\n      <td>0.0</td>\n      <td>0.0</td>\n      <td>0.0</td>\n      <td>0.0</td>\n      <td>0.0</td>\n      <td>...</td>\n      <td>340.0</td>\n      <td>90.0</td>\n      <td>220.0</td>\n      <td>340.0</td>\n      <td>90.0</td>\n      <td>220.0</td>\n      <td>340.0</td>\n      <td>90.0</td>\n      <td>220.0</td>\n      <td>340.0</td>\n    </tr>\n    <tr>\n      <th>Azimuth Efectivo</th>\n      <td>0.0</td>\n      <td>0.0</td>\n      <td>0.0</td>\n      <td>0.0</td>\n      <td>0.0</td>\n      <td>0.0</td>\n      <td>0.0</td>\n      <td>0.0</td>\n      <td>0.0</td>\n      <td>0.0</td>\n      <td>...</td>\n      <td>345.0</td>\n      <td>95.0</td>\n      <td>225.0</td>\n      <td>345.0</td>\n      <td>91.0</td>\n      <td>221.0</td>\n      <td>341.0</td>\n      <td>95.0</td>\n      <td>225.0</td>\n      <td>345.0</td>\n    </tr>\n    <tr>\n      <th>Tilt Mec.</th>\n      <td>-0.0</td>\n      <td>-0.0</td>\n      <td>-0.0</td>\n      <td>-0.0</td>\n      <td>-0.0</td>\n      <td>-0.0</td>\n      <td>-0.0</td>\n      <td>-0.0</td>\n      <td>-0.0</td>\n      <td>-0.0</td>\n      <td>...</td>\n      <td>4.0</td>\n      <td>4.0</td>\n      <td>6.0</td>\n      <td>4.0</td>\n      <td>4.0</td>\n      <td>6.0</td>\n      <td>4.0</td>\n      <td>4.0</td>\n      <td>6.0</td>\n      <td>4.0</td>\n    </tr>\n    <tr>\n      <th>Tilt Eléc.</th>\n      <td>NaN</td>\n      <td>NaN</td>\n      <td>NaN</td>\n      <td>NaN</td>\n      <td>NaN</td>\n      <td>NaN</td>\n      <td>NaN</td>\n      <td>NaN</td>\n      <td>NaN</td>\n      <td>NaN</td>\n      <td>...</td>\n      <td>8.0</td>\n      <td>8.0</td>\n      <td>8.0</td>\n      <td>8.0</td>\n      <td>6.0</td>\n      <td>6.0</td>\n      <td>6.0</td>\n      <td>8.0</td>\n      <td>8.0</td>\n      <td>8.0</td>\n    </tr>\n    <tr>\n      <th>Twist</th>\n      <td>0.0</td>\n      <td>0.0</td>\n      <td>0.0</td>\n      <td>0.0</td>\n      <td>0.0</td>\n      <td>0.0</td>\n      <td>0.0</td>\n      <td>0.0</td>\n      <td>0.0</td>\n      <td>0.0</td>\n      <td>...</td>\n      <td>0.0</td>\n      <td>0.0</td>\n      <td>0.0</td>\n      <td>0.0</td>\n      <td>0.0</td>\n      <td>0.0</td>\n      <td>0.0</td>\n      <td>0.0</td>\n      <td>0.0</td>\n      <td>0.0</td>\n    </tr>\n    <tr>\n      <th>Ancho Horiz.</th>\n      <td>360</td>\n      <td>360</td>\n      <td>360</td>\n      <td>360</td>\n      <td>360</td>\n      <td>360</td>\n      <td>360</td>\n      <td>360</td>\n      <td>360</td>\n      <td>360</td>\n      <td>...</td>\n      <td>62</td>\n      <td>62</td>\n      <td>62</td>\n      <td>62</td>\n      <td>63</td>\n      <td>63</td>\n      <td>63</td>\n      <td>62</td>\n      <td>62</td>\n      <td>62</td>\n    </tr>\n    <tr>\n      <th>Ancho Vert.</th>\n      <td>32</td>\n      <td>32</td>\n      <td>32</td>\n      <td>32</td>\n      <td>32</td>\n      <td>32</td>\n      <td>32</td>\n      <td>32</td>\n      <td>32</td>\n      <td>32</td>\n      <td>...</td>\n      <td>9</td>\n      <td>9</td>\n      <td>9</td>\n      <td>9</td>\n      <td>9</td>\n      <td>9</td>\n      <td>9</td>\n      <td>9</td>\n      <td>9</td>\n      <td>9</td>\n    </tr>\n    <tr>\n      <th>Ganancia dBi</th>\n      <td>6.5</td>\n      <td>6.5</td>\n      <td>6.5</td>\n      <td>6.5</td>\n      <td>6.5</td>\n      <td>6.5</td>\n      <td>6.5</td>\n      <td>6.5</td>\n      <td>6.5</td>\n      <td>6.5</td>\n      <td>...</td>\n      <td>15.230727</td>\n      <td>15.230727</td>\n      <td>15.230727</td>\n      <td>15.230727</td>\n      <td>15.526494</td>\n      <td>15.526494</td>\n      <td>15.526494</td>\n      <td>15.230727</td>\n      <td>15.230727</td>\n      <td>15.230727</td>\n    </tr>\n    <tr>\n      <th>Cota de Terreno</th>\n      <td>36.31</td>\n      <td>36.31</td>\n      <td>36.31</td>\n      <td>36.31</td>\n      <td>36.31</td>\n      <td>36.31</td>\n      <td>36.31</td>\n      <td>36.31</td>\n      <td>36.31</td>\n      <td>32.65</td>\n      <td>...</td>\n      <td>36.44</td>\n      <td>36.44</td>\n      <td>36.44</td>\n      <td>36.44</td>\n      <td>36.44</td>\n      <td>36.44</td>\n      <td>36.44</td>\n      <td>36.44</td>\n      <td>36.44</td>\n      <td>36.44</td>\n    </tr>\n  </tbody>\n</table>\n<p>26 rows × 230 columns</p>\n</div>"
     },
     "metadata": {},
     "output_type": "display_data"
    }
   ],
   "source": [
    "# Visualizamos los datos obtenidos:\n",
    "display(Markdown(f\"# Datos Outdoor - Sitios seleccionados: {len(site_names)}\"))\n",
    "display(Markdown(f\"### Tabla con orientación normal:\"))\n",
    "display(df)\n",
    "\n",
    "display(Markdown(f\"### Tabla transpuesta:\"))\n",
    "# Los mismos datos pero transponiéndolos (intercambiando filas por columnas) para poder ver mejor todos los nombres de columnas:\n",
    "display(df.transpose())"
   ],
   "metadata": {
    "collapsed": false,
    "pycharm": {
     "name": "#%%\n"
    }
   }
  },
  {
   "cell_type": "code",
   "execution_count": 72,
   "outputs": [],
   "source": [],
   "metadata": {
    "collapsed": false,
    "pycharm": {
     "name": "#%%\n"
    }
   }
  }
 ],
 "metadata": {
  "kernelspec": {
   "display_name": "Python 3 (ipykernel)",
   "language": "python",
   "name": "python3"
  },
  "language_info": {
   "codemirror_mode": {
    "name": "ipython",
    "version": 3
   },
   "file_extension": ".py",
   "mimetype": "text/x-python",
   "name": "python",
   "nbconvert_exporter": "python",
   "pygments_lexer": "ipython3",
   "version": "3.9.12"
  }
 },
 "nbformat": 4,
 "nbformat_minor": 1
}