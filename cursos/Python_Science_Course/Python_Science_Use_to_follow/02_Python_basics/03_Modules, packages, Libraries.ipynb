{
 "cells": [
  {
   "cell_type": "markdown",
   "metadata": {},
   "source": [
    "# Python's import system\n",
    "\n",
    "In this Section we will deal with modules, packages, libraries:\n",
    "\n",
    "We will start with creating a module. A module is basically code from another python Script."
   ]
  },
  {
   "cell_type": "code",
   "execution_count": null,
   "metadata": {},
   "outputs": [],
   "source": []
  },
  {
   "cell_type": "code",
   "execution_count": null,
   "metadata": {},
   "outputs": [],
   "source": []
  },
  {
   "cell_type": "code",
   "execution_count": null,
   "metadata": {},
   "outputs": [],
   "source": []
  },
  {
   "cell_type": "code",
   "execution_count": null,
   "metadata": {},
   "outputs": [],
   "source": []
  },
  {
   "cell_type": "markdown",
   "metadata": {},
   "source": [
    "## Built in Modules\n",
    "\n",
    "Now let's see which functions of modules are built in already. Many of them we already used:\n",
    "- print()\n",
    "- input()\n",
    "- int, str, float, list, tuple ...\n",
    "\n",
    "Now let's use another built in Module: Math"
   ]
  },
  {
   "cell_type": "code",
   "execution_count": null,
   "metadata": {},
   "outputs": [],
   "source": []
  },
  {
   "cell_type": "markdown",
   "metadata": {},
   "source": [
    "For further Information see the Documentation of each module\n",
    "https://docs.python.org/3/library/statistics.html\n",
    "\n",
    "\n",
    "## Packages\n",
    "\n",
    "Packages includes several Modules - Nesting with another level/Step - Let's create our own package\n",
    "\n",
    "Create new Folder - Create __init__.py (python will recognize it is a package) - create modules"
   ]
  },
  {
   "cell_type": "code",
   "execution_count": null,
   "metadata": {},
   "outputs": [],
   "source": []
  },
  {
   "cell_type": "markdown",
   "metadata": {},
   "source": [
    "If you want to know how to share your Python packages you can find further information here (there are some steps you have to take):\n",
    "https://packaging.python.org/tutorials/packaging-projects/"
   ]
  },
  {
   "cell_type": "markdown",
   "metadata": {},
   "source": [
    "## Install packages system-wide\n",
    "\n",
    "We want to install a new package on the system. Then we can access it in an easy way from everywhere in the system.\n",
    "Further information https://packaging.python.org/tutorials/installing-packages/\n",
    "\n",
    "Install a package in CMD terminal for example via pip or conda\n",
    "(for example: conda install -c intel scikit-learn)"
   ]
  },
  {
   "cell_type": "code",
   "execution_count": null,
   "metadata": {},
   "outputs": [],
   "source": []
  },
  {
   "cell_type": "code",
   "execution_count": null,
   "metadata": {},
   "outputs": [],
   "source": []
  }
 ],
 "metadata": {
  "kernelspec": {
   "display_name": "Python 3",
   "language": "python",
   "name": "python3"
  },
  "language_info": {
   "codemirror_mode": {
    "name": "ipython",
    "version": 3
   },
   "file_extension": ".py",
   "mimetype": "text/x-python",
   "name": "python",
   "nbconvert_exporter": "python",
   "pygments_lexer": "ipython3",
   "version": "3.7.6"
  }
 },
 "nbformat": 4,
 "nbformat_minor": 4
}
