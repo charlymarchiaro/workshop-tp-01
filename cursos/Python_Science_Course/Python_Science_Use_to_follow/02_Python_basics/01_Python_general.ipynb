{
 "cells": [
  {
   "cell_type": "markdown",
   "metadata": {},
   "source": [
    "# Python \n",
    "\n",
    "Ideal language for scripting and rapid application development:\n",
    "\n",
    "- Python is interpreted at runtime, no compilation necessary\n",
    "- high-level data structures, powerful\n",
    "- object-oriented\n",
    "- free, portable (runs on Windows, Unix, MacOS)\n",
    "- “easy” interfacing to C/Fortran\n",
    "- intuitive and easy to learn! (fewer lines necessary than other languages)\n",
    "- created for readability\n",
    "\n",
    "Python is used for:\n",
    "- web development (Django)\n",
    "- software development\n",
    "- mathematics and Science"
   ]
  },
  {
   "cell_type": "markdown",
   "metadata": {},
   "source": [
    "## Syntax \n",
    "\n",
    "Python has several pretermined Keywords (currently more than 30) that cannot be used for anything else than their predetermined purpose like: if, elif, False, true...\n",
    "\n",
    "Apart from keywords, a Python program can have variables, functions, classes, modules, packages etc. Identifier is the name given to these programming elements.\n",
    "\n",
    "\n",
    "\n",
    "### Variables: containers for storing data values\n",
    "Note: Variable name cannot start with a number | Case sensitive\n",
    "\n",
    "comments: Code with # in front is not executed"
   ]
  },
  {
   "cell_type": "code",
   "execution_count": null,
   "metadata": {},
   "outputs": [],
   "source": []
  },
  {
   "cell_type": "markdown",
   "metadata": {},
   "source": [
    "By default, the Python interpreter treats a piece of text terminated by hard carriage return (new line character) as one statement. "
   ]
  },
  {
   "cell_type": "code",
   "execution_count": null,
   "metadata": {},
   "outputs": [],
   "source": []
  },
  {
   "cell_type": "code",
   "execution_count": null,
   "metadata": {},
   "outputs": [],
   "source": []
  },
  {
   "cell_type": "code",
   "execution_count": null,
   "metadata": {},
   "outputs": [],
   "source": []
  },
  {
   "cell_type": "markdown",
   "metadata": {},
   "source": [
    "## Indentation and blocks of Statements\n",
    "\n",
    "Indentation matters: in contrast to other programming languages - indentation in Python is not just for readability\n",
    "\n",
    "Multiline comments can be created with \"\"\""
   ]
  },
  {
   "cell_type": "code",
   "execution_count": null,
   "metadata": {},
   "outputs": [],
   "source": []
  },
  {
   "cell_type": "markdown",
   "metadata": {},
   "source": [
    "## Operators\n",
    "\n",
    "In Python different operators are available. Let's have a look at some important ones in examples:"
   ]
  },
  {
   "cell_type": "code",
   "execution_count": null,
   "metadata": {},
   "outputs": [],
   "source": []
  },
  {
   "cell_type": "code",
   "execution_count": null,
   "metadata": {},
   "outputs": [],
   "source": []
  },
  {
   "cell_type": "code",
   "execution_count": null,
   "metadata": {},
   "outputs": [],
   "source": []
  },
  {
   "cell_type": "code",
   "execution_count": null,
   "metadata": {},
   "outputs": [],
   "source": []
  },
  {
   "cell_type": "code",
   "execution_count": null,
   "metadata": {},
   "outputs": [],
   "source": []
  },
  {
   "cell_type": "markdown",
   "metadata": {},
   "source": [
    "Further Information and a full list can be found at the Documentation: https://docs.python.org/3.7/tutorial/introduction.html#"
   ]
  },
  {
   "cell_type": "markdown",
   "metadata": {},
   "source": [
    "## Fundamental data types\n",
    "\n",
    "Just Assign a Value and Python give it the right Data type."
   ]
  },
  {
   "cell_type": "markdown",
   "metadata": {},
   "source": [
    "Numeric type:\n",
    "\n",
    "|   \t| \t| \t|\n",
    "|-------\t|-----------------\t|---------\t|\n",
    "| int  \t| integer Numbers \t| x=2     \t|\n",
    "| float \t| float numbers   \t| x=2,5   \t|\n",
    "| complex \t| complex numbers \t| x= 1+2j \t|"
   ]
  },
  {
   "cell_type": "code",
   "execution_count": 1,
   "metadata": {},
   "outputs": [
    {
     "data": {
      "text/plain": [
       "'variables may not begin with 0-9.\\ncase sensitive\\ndynamic typing in Python -> types are assigned automatically'"
      ]
     },
     "execution_count": 1,
     "metadata": {},
     "output_type": "execute_result"
    }
   ],
   "source": [
    "# comments in Python are done with #\n",
    "'''variables may not begin with 0-9.\n",
    "case sensitive\n",
    "dynamic typing in Python -> types are assigned automatically'''\n"
   ]
  },
  {
   "cell_type": "code",
   "execution_count": null,
   "metadata": {},
   "outputs": [],
   "source": []
  },
  {
   "cell_type": "code",
   "execution_count": null,
   "metadata": {},
   "outputs": [],
   "source": []
  },
  {
   "cell_type": "code",
   "execution_count": null,
   "metadata": {},
   "outputs": [],
   "source": []
  },
  {
   "cell_type": "code",
   "execution_count": null,
   "metadata": {},
   "outputs": [],
   "source": []
  },
  {
   "cell_type": "markdown",
   "metadata": {},
   "source": [
    "### Text Type\n",
    "\n",
    "Str for Text/String: x = \"Hello World\";"
   ]
  },
  {
   "cell_type": "code",
   "execution_count": null,
   "metadata": {},
   "outputs": [],
   "source": []
  },
  {
   "cell_type": "markdown",
   "metadata": {},
   "source": [
    "### Bool\n",
    "\n",
    "bool for logical Arguments True or False"
   ]
  },
  {
   "cell_type": "code",
   "execution_count": null,
   "metadata": {},
   "outputs": [],
   "source": []
  },
  {
   "cell_type": "markdown",
   "metadata": {},
   "source": [
    "## Other data types: Sequence Type:\n",
    "\n",
    "|       \t|                 \t|         \t|\n",
    "|-------\t|-----------------\t|---------\t|\n",
    "| list     | Number of Elements (mutable)  | x=[2,\"Hello World\", 3j]     |\n",
    "| tuple \t| Number of Elements  (immutable) \t| y= (2,\"Hello\", 3j)   \t|"
   ]
  },
  {
   "cell_type": "code",
   "execution_count": null,
   "metadata": {},
   "outputs": [],
   "source": []
  },
  {
   "cell_type": "code",
   "execution_count": null,
   "metadata": {},
   "outputs": [],
   "source": []
  },
  {
   "cell_type": "markdown",
   "metadata": {},
   "source": [
    "## Difference between Tuple and List: mutable, immutable"
   ]
  },
  {
   "cell_type": "code",
   "execution_count": null,
   "metadata": {},
   "outputs": [],
   "source": []
  },
  {
   "cell_type": "code",
   "execution_count": null,
   "metadata": {},
   "outputs": [],
   "source": []
  },
  {
   "cell_type": "markdown",
   "metadata": {},
   "source": [
    "### Other Data types:\n",
    "- dict\n",
    "- set, frozenset\n",
    "\n",
    "a good overview can be found at:\n",
    "\n",
    "https://docs.python.org/3/tutorial/introduction.html#using-python-as-a-calculator\n",
    "\n",
    "https://www.w3schools.com/python/python_datatypes.asp"
   ]
  },
  {
   "cell_type": "code",
   "execution_count": null,
   "metadata": {},
   "outputs": [],
   "source": []
  },
  {
   "cell_type": "code",
   "execution_count": null,
   "metadata": {},
   "outputs": [],
   "source": []
  },
  {
   "cell_type": "code",
   "execution_count": null,
   "metadata": {},
   "outputs": [],
   "source": []
  }
 ],
 "metadata": {
  "kernelspec": {
   "display_name": "Python 3",
   "language": "python",
   "name": "python3"
  },
  "language_info": {
   "codemirror_mode": {
    "name": "ipython",
    "version": 3
   },
   "file_extension": ".py",
   "mimetype": "text/x-python",
   "name": "python",
   "nbconvert_exporter": "python",
   "pygments_lexer": "ipython3",
   "version": "3.7.6"
  }
 },
 "nbformat": 4,
 "nbformat_minor": 4
}
