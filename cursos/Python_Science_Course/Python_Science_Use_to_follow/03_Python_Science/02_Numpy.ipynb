{
 "cells": [
  {
   "cell_type": "markdown",
   "metadata": {},
   "source": [
    "# Numpy\n",
    "\n",
    "NumPy is the fundamental package for scientific computing in Python. \n",
    "Numpy is perfect for fast n-dimensional calculations. \n",
    "\n",
    "- Numpy Arrays (ndarray - Numpy array class) have a fixed size at creation\n",
    "- Same Data type in one array and operations\n",
    "- behind the scenes optimized, pre-compiled C code.\n",
    "- Absence of Loops (vectorized)\n",
    "- element-by-element behavior (broadcasting)\n",
    "\n",
    "Further Information - See Help Numpy reference"
   ]
  },
  {
   "cell_type": "code",
   "execution_count": null,
   "metadata": {},
   "outputs": [],
   "source": []
  },
  {
   "cell_type": "markdown",
   "metadata": {},
   "source": [
    "Lets start with creating an Array:\n",
    "$$\n",
    "   a= \\begin{pmatrix}\n",
    "    1 & 2 & 3 \\\\\n",
    "    1 & 2 & 3 \\\\\n",
    "    1 & 2 & 3 \\\\\n",
    "    \\end{pmatrix}\n",
    "$$"
   ]
  },
  {
   "cell_type": "code",
   "execution_count": null,
   "metadata": {},
   "outputs": [],
   "source": []
  },
  {
   "cell_type": "code",
   "execution_count": null,
   "metadata": {},
   "outputs": [],
   "source": []
  },
  {
   "cell_type": "code",
   "execution_count": null,
   "metadata": {},
   "outputs": [],
   "source": []
  },
  {
   "cell_type": "markdown",
   "metadata": {},
   "source": [
    "## Basic Operations\n",
    "\n",
    "Elementwise behaviour:\n",
    "$$\n",
    "   b= \\begin{pmatrix}\n",
    "    1 & 2 & 3 \\\\\n",
    "    1 & 2 & 3 \\\\\n",
    "    1 & 2 & 3 \\\\\n",
    "    \\end{pmatrix} \n",
    "    \\cdot 2\n",
    "$$"
   ]
  },
  {
   "cell_type": "code",
   "execution_count": null,
   "metadata": {},
   "outputs": [],
   "source": []
  },
  {
   "cell_type": "code",
   "execution_count": null,
   "metadata": {},
   "outputs": [],
   "source": []
  },
  {
   "cell_type": "markdown",
   "metadata": {},
   "source": [
    "What happens when multiplying two matrizes?\n",
    "\n",
    "$$\n",
    "   c=a\\cdot b= \\begin{pmatrix}\n",
    "    2 & 4 & 6 \\\\\n",
    "    2 & 4 & 6 \\\\\n",
    "    2 & 4 & 6 \\\\\n",
    "    \\end{pmatrix} \n",
    "    \\cdot \n",
    "    \\begin{pmatrix}\n",
    "    2 & 4 & 6 \\\\\n",
    "    2 & 4 & 6 \\\\\n",
    "    2 & 4 & 6 \\\\\n",
    "    \\end{pmatrix} \n",
    "$$"
   ]
  },
  {
   "cell_type": "code",
   "execution_count": null,
   "metadata": {},
   "outputs": [],
   "source": []
  },
  {
   "cell_type": "markdown",
   "metadata": {},
   "source": [
    "Normally Operations are done Elementwise. \n",
    "But what about matrix product?\n",
    "\n",
    "$$\n",
    "   a\\cdot b= \\begin{pmatrix}\n",
    "    2 & 4 & 6 \\\\\n",
    "    2 & 4 & 6 \\\\\n",
    "    2 & 4 & 6 \\\\\n",
    "    \\end{pmatrix} \n",
    "    \\cdot \n",
    "    \\begin{pmatrix}\n",
    "    2 & 4 & 6 \\\\\n",
    "    2 & 4 & 6 \\\\\n",
    "    2 & 4 & 6 \\\\\n",
    "    \\end{pmatrix} \n",
    "    =\n",
    "    \\begin{pmatrix}\n",
    "    24 & 48 & 72 \\\\\n",
    "    24 & 48 & 72 \\\\\n",
    "    24 & 48 & 72 \\\\\n",
    "    \\end{pmatrix} \n",
    "$$"
   ]
  },
  {
   "cell_type": "code",
   "execution_count": null,
   "metadata": {},
   "outputs": [],
   "source": []
  },
  {
   "cell_type": "markdown",
   "metadata": {},
   "source": [
    "Many other Operations are implemented as functions:\n",
    "Sum, Find minimium/maximum Value...\n"
   ]
  },
  {
   "cell_type": "code",
   "execution_count": null,
   "metadata": {},
   "outputs": [],
   "source": []
  },
  {
   "cell_type": "code",
   "execution_count": null,
   "metadata": {},
   "outputs": [],
   "source": []
  },
  {
   "cell_type": "code",
   "execution_count": null,
   "metadata": {},
   "outputs": [],
   "source": []
  },
  {
   "cell_type": "markdown",
   "metadata": {},
   "source": [
    "## Access Values from Arrays\n",
    "\n",
    "a[Row,Column]\n",
    "\n",
    "Array counting starts with 0\n",
    "\n",
    "With : all Values can be found\n",
    "\n"
   ]
  },
  {
   "cell_type": "code",
   "execution_count": null,
   "metadata": {},
   "outputs": [],
   "source": []
  },
  {
   "cell_type": "markdown",
   "metadata": {},
   "source": [
    "Many more Operations can be conducted with arrays! Lets have another look at the Documentation"
   ]
  }
 ],
 "metadata": {
  "kernelspec": {
   "display_name": "Python 3",
   "language": "python",
   "name": "python3"
  },
  "language_info": {
   "codemirror_mode": {
    "name": "ipython",
    "version": 3
   },
   "file_extension": ".py",
   "mimetype": "text/x-python",
   "name": "python",
   "nbconvert_exporter": "python",
   "pygments_lexer": "ipython3",
   "version": "3.7.6"
  }
 },
 "nbformat": 4,
 "nbformat_minor": 4
}
