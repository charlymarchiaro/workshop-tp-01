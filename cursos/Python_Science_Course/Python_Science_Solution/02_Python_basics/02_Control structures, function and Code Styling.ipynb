{
 "cells": [
  {
   "cell_type": "markdown",
   "metadata": {},
   "source": [
    "# Control structures, functions and code styling\n",
    "\n",
    "In Python if Statements are written like this:"
   ]
  },
  {
   "cell_type": "code",
   "execution_count": 1,
   "metadata": {},
   "outputs": [],
   "source": [
    "x=0\n",
    "if x==2:\n",
    "    print('Hello World')"
   ]
  },
  {
   "cell_type": "markdown",
   "metadata": {},
   "source": [
    "Other options to an If Statement can be added by elif (=else if) and else:"
   ]
  },
  {
   "cell_type": "code",
   "execution_count": 1,
   "metadata": {},
   "outputs": [
    {
     "name": "stdout",
     "output_type": "stream",
     "text": [
      "other\n"
     ]
    }
   ],
   "source": [
    "x=3\n",
    "if x==2:\n",
    "    print('two')\n",
    "elif x==1:\n",
    "    print('one')\n",
    "elif x==0:\n",
    "    print('zeros')\n",
    "else:\n",
    "    print('other')"
   ]
  },
  {
   "cell_type": "markdown",
   "metadata": {},
   "source": [
    "Python’s for statement iterates over the items of any sequence (a list or a string).\n",
    "Python docs Help - Python reference\n",
    "https://docs.python.org/3.7/tutorial/controlflow.html#if-statements"
   ]
  },
  {
   "cell_type": "code",
   "execution_count": 2,
   "metadata": {},
   "outputs": [
    {
     "name": "stdout",
     "output_type": "stream",
     "text": [
      "1\n",
      "2\n",
      "3\n",
      "(1, 2, 3)\n"
     ]
    }
   ],
   "source": [
    "#for <var> in <Iterable>:\n",
    "    #<statement>\n",
    "x=(1,2,3)\n",
    "for Numbers in x:\n",
    "    print(Numbers)\n",
    "print(x)"
   ]
  },
  {
   "cell_type": "markdown",
   "metadata": {},
   "source": [
    "Often you have a variable X=10 and you want to iterate the number of X times the for loop: \n",
    "Here the range function helps"
   ]
  },
  {
   "cell_type": "code",
   "execution_count": null,
   "metadata": {},
   "outputs": [],
   "source": [
    "x=8\n",
    "y=range(x)\n",
    "for t in y:\n",
    "    print(t)"
   ]
  },
  {
   "cell_type": "markdown",
   "metadata": {},
   "source": [
    "## Functions in Python \n",
    "\n",
    "encapsulated “code fragments”\n",
    "- return a single variable as result.\n",
    "- Usa tuple to return more variables.\n",
    "- functions normally start with lower case letters\n",
    "- Default values can be set at the end - can still be called"
   ]
  },
  {
   "cell_type": "code",
   "execution_count": null,
   "metadata": {},
   "outputs": [],
   "source": [
    "def function1(n, x=7):\n",
    "    y= n + x\n",
    "    return y\n",
    "function1(2,3)"
   ]
  },
  {
   "cell_type": "code",
   "execution_count": null,
   "metadata": {},
   "outputs": [],
   "source": [
    "# Call build in functions\n",
    "input(x)\n",
    "type(x)\n",
    "id(x)"
   ]
  },
  {
   "cell_type": "markdown",
   "metadata": {},
   "source": [
    "List with all build in functions: https://docs.python.org/3/library/functions.html"
   ]
  },
  {
   "cell_type": "markdown",
   "metadata": {},
   "source": [
    "## Python Style guide: readability counts!\n",
    "\n",
    "If you write Python code most probably someone else will read it after some time. It will be easier to read the code if you stick to the Python sytle guide:\n",
    "https://www.python.org/dev/peps/pep-0008/#id14\n",
    "\n",
    "Most important things:\n",
    "- comments in separate lines\n",
    "- spaces between arguments\n",
    "- Arguments vertically alligned\n",
    "- use low letters as function and names and upper case letters for classes\n",
    "- use spaces instead of tabs\n",
    "- use blank lines between classes and functions\n",
    "- now fancy encodings / Python code is international (no ü)"
   ]
  },
  {
   "cell_type": "code",
   "execution_count": null,
   "metadata": {},
   "outputs": [],
   "source": [
    "# This comments wants a separate line\n",
    "\n",
    "def function1 (n, x,\n",
    "               test):\n",
    "    print (n)\n",
    "\n",
    "print('Hello World ü')"
   ]
  }
 ],
 "metadata": {
  "kernelspec": {
   "display_name": "Python 3",
   "language": "python",
   "name": "python3"
  },
  "language_info": {
   "codemirror_mode": {
    "name": "ipython",
    "version": 3
   },
   "file_extension": ".py",
   "mimetype": "text/x-python",
   "name": "python",
   "nbconvert_exporter": "python",
   "pygments_lexer": "ipython3",
   "version": "3.7.6"
  }
 },
 "nbformat": 4,
 "nbformat_minor": 4
}
