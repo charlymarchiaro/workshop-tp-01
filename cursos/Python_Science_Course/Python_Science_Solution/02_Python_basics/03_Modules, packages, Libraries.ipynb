{
 "cells": [
  {
   "cell_type": "markdown",
   "metadata": {},
   "source": [
    "# Python's import system\n",
    "\n",
    "In this Section we will deal with modules, packages, libraries:\n",
    "\n",
    "We will start with creating a module. A module is basically code from another python Script."
   ]
  },
  {
   "cell_type": "code",
   "execution_count": 1,
   "metadata": {},
   "outputs": [],
   "source": [
    "# this code must be stored as .py \n",
    "def functionmodul(x):\n",
    "    y=x+3\n",
    "    print(\"yes the import worked\")\n",
    "    return y"
   ]
  },
  {
   "cell_type": "code",
   "execution_count": 2,
   "metadata": {},
   "outputs": [
    {
     "name": "stdout",
     "output_type": "stream",
     "text": [
      "Help on module Moduletest:\n",
      "\n",
      "NAME\n",
      "    Moduletest - # coding: utf-8\n",
      "\n",
      "FUNCTIONS\n",
      "    functionmodul(x)\n",
      "\n",
      "FILE\n",
      "    c:\\users\\nico\\documents\\github\\datenauswertung\\02_python_basics\\moduletest.py\n",
      "\n",
      "\n",
      "yes the import worked\n",
      "6\n"
     ]
    }
   ],
   "source": [
    "#We can create a modul when saving the Jupyter notebook as .py file and then we can import it\n",
    "import Moduletest as MT\n",
    "#Ok now we want to know whats inside Moduletest/MT\n",
    "help(MT)\n",
    "\n",
    "# we can call the necessary function by accessing it with . writing\n",
    "x=MT.functionmodul(3)\n",
    "print(x)"
   ]
  },
  {
   "cell_type": "code",
   "execution_count": 4,
   "metadata": {},
   "outputs": [
    {
     "name": "stdout",
     "output_type": "stream",
     "text": [
      "yes the import worked\n",
      "6\n"
     ]
    }
   ],
   "source": [
    "# it is also Possible to import some functions only with from\n",
    "from Moduletest import functionmodul\n",
    "#. calling not necessary\n",
    "x=functionmodul(3)\n",
    "print(x)"
   ]
  },
  {
   "cell_type": "code",
   "execution_count": 5,
   "metadata": {},
   "outputs": [
    {
     "name": "stdout",
     "output_type": "stream",
     "text": [
      "yes the import worked\n",
      "6\n"
     ]
    }
   ],
   "source": [
    "# all functions imported - should not \n",
    "from Moduletest import *\n",
    "x=functionmodul(3)\n",
    "print(x)"
   ]
  },
  {
   "cell_type": "markdown",
   "metadata": {},
   "source": [
    "## Built in Modules\n",
    "\n",
    "Now let's see which functions of modules are built in already. Many of them we already used:\n",
    "- print()\n",
    "- input()\n",
    "- int, str, float, list, tuple ...\n",
    "\n",
    "Now let's use another built in Module: Math"
   ]
  },
  {
   "cell_type": "code",
   "execution_count": 19,
   "metadata": {},
   "outputs": [
    {
     "data": {
      "text/plain": [
       "5.5"
      ]
     },
     "execution_count": 19,
     "metadata": {},
     "output_type": "execute_result"
    }
   ],
   "source": [
    "import math\n",
    "math.pi\n",
    "math.e\n",
    "import statistics\n",
    "statistics.mean([2,5,6,9])"
   ]
  },
  {
   "cell_type": "markdown",
   "metadata": {},
   "source": [
    "For further Information see the Documentation of each module\n",
    "https://docs.python.org/3/library/statistics.html\n",
    "\n",
    "\n",
    "## Packages\n",
    "\n",
    "Packages includes several Modules - Nesting with another level/Step - Let's create our own package\n",
    "\n",
    "Create new Folder - Create __init__.py (python will recognize it is a package) - create modules"
   ]
  },
  {
   "cell_type": "code",
   "execution_count": 1,
   "metadata": {},
   "outputs": [
    {
     "data": {
      "text/plain": [
       "9"
      ]
     },
     "execution_count": 1,
     "metadata": {},
     "output_type": "execute_result"
    }
   ],
   "source": [
    "from myApp import functions\n",
    "functions.power(3,2)"
   ]
  },
  {
   "cell_type": "markdown",
   "metadata": {},
   "source": [
    "If you want to know how to share your Python packages you can find further information here (there are some steps you have to take):\n",
    "https://packaging.python.org/tutorials/packaging-projects/"
   ]
  },
  {
   "cell_type": "markdown",
   "metadata": {},
   "source": [
    "## Install packages system-wide\n",
    "\n",
    "We want to install a new package on the system. Then we can access it in an easy way from everywhere in the system.\n",
    "Further information https://packaging.python.org/tutorials/installing-packages/\n",
    "\n",
    "Install a package in CMD terminal for example via pip or conda\n",
    "(for example: conda install -c intel scikit-learn)"
   ]
  },
  {
   "cell_type": "code",
   "execution_count": 2,
   "metadata": {},
   "outputs": [
    {
     "name": "stderr",
     "output_type": "stream",
     "text": [
      "\n",
      "CondaValueError: too few arguments, must supply command line package specs or --file\n",
      "\n"
     ]
    }
   ],
   "source": [
    "!conda install -c voila"
   ]
  },
  {
   "cell_type": "code",
   "execution_count": null,
   "metadata": {},
   "outputs": [],
   "source": []
  }
 ],
 "metadata": {
  "kernelspec": {
   "display_name": "Python 3",
   "language": "python",
   "name": "python3"
  },
  "language_info": {
   "codemirror_mode": {
    "name": "ipython",
    "version": 3
   },
   "file_extension": ".py",
   "mimetype": "text/x-python",
   "name": "python",
   "nbconvert_exporter": "python",
   "pygments_lexer": "ipython3",
   "version": "3.7.6"
  }
 },
 "nbformat": 4,
 "nbformat_minor": 4
}
