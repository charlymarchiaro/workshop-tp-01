{
 "cells": [
  {
   "cell_type": "markdown",
   "metadata": {},
   "source": [
    "# Python \n",
    "\n",
    "Ideal language for scripting and rapid application development:\n",
    "\n",
    "- Python is interpreted at runtime, no compilation necessary\n",
    "- high-level data structures, powerful\n",
    "- object-oriented\n",
    "- free, portable (runs on Windows, Unix, MacOS)\n",
    "- “easy” interfacing to C/Fortran\n",
    "- intuitive and easy to learn! (fewer lines necessary than other languages)\n",
    "- created for readability\n",
    "\n",
    "Python is used for:\n",
    "- web development (Django)\n",
    "- software development\n",
    "- mathematics and Science"
   ]
  },
  {
   "cell_type": "markdown",
   "metadata": {},
   "source": [
    "## Syntax \n",
    "\n",
    "Python has several pretermined Keywords (currently more than 30) that cannot be used for anything else than their predetermined purpose like: if, elif, False, true...\n",
    "\n",
    "Apart from keywords, a Python program can have variables, functions, classes, modules, packages etc. Identifier is the name given to these programming elements.\n",
    "\n",
    "\n",
    "\n",
    "### Variables: containers for storing data values\n",
    "Note: Variable name cannot start with a number | Case sensitive\n",
    "\n",
    "comments: Code with # in front is not executed"
   ]
  },
  {
   "cell_type": "code",
   "execution_count": 10,
   "metadata": {},
   "outputs": [
    {
     "data": {
      "text/plain": [
       "140735018410416"
      ]
     },
     "execution_count": 10,
     "metadata": {},
     "output_type": "execute_result"
    }
   ],
   "source": [
    "# variable with the Identfier x\n",
    "x=2\n",
    "id(x)"
   ]
  },
  {
   "cell_type": "markdown",
   "metadata": {},
   "source": [
    "By default, the Python interpreter treats a piece of text terminated by hard carriage return (new line character) as one statement. "
   ]
  },
  {
   "cell_type": "code",
   "execution_count": 11,
   "metadata": {},
   "outputs": [
    {
     "name": "stdout",
     "output_type": "stream",
     "text": [
      "2 3\n"
     ]
    }
   ],
   "source": [
    "# each Statement 1 line\n",
    "x=2 \n",
    "y=3\n",
    "print(x,y)"
   ]
  },
  {
   "cell_type": "code",
   "execution_count": 12,
   "metadata": {},
   "outputs": [
    {
     "name": "stdout",
     "output_type": "stream",
     "text": [
      "2 3\n"
     ]
    }
   ],
   "source": [
    "# other option statements separated with ;\n",
    "x=2;y=3\n",
    "print(x,y)"
   ]
  },
  {
   "cell_type": "code",
   "execution_count": 4,
   "metadata": {},
   "outputs": [
    {
     "name": "stdout",
     "output_type": "stream",
     "text": [
      "9\n"
     ]
    }
   ],
   "source": [
    "#continue Statments with \\ over lines\n",
    "x=2+3+\\\n",
    "4\n",
    "print(x) "
   ]
  },
  {
   "cell_type": "markdown",
   "metadata": {},
   "source": [
    "## Indentation and blocks of Statements\n",
    "\n",
    "Indentation matters: in contrast to other programming languages - indentation in Python is not just for readability\n",
    "\n",
    "Multiline comments can be created with \"\"\""
   ]
  },
  {
   "cell_type": "code",
   "execution_count": 11,
   "metadata": {},
   "outputs": [
    {
     "name": "stdout",
     "output_type": "stream",
     "text": [
      "3 3\n"
     ]
    }
   ],
   "source": [
    "\"\"\" Blocks of statements can be started with : + press Enter\n",
    " Any Python-aware editor (like IDLE) goes to the next line leaving an additional whitespace (called indent).\n",
    " Other Programming languages like Java, C++... use {block} to create block of Statements = : in Python!\"\"\"\n",
    "x=2\n",
    "if x==2:\n",
    "    #Here Block starts\n",
    "    y=3\n",
    "    z=3\n",
    "    #Here Block of Statements end\n",
    "#New Statement starts with deleting the whitespace\n",
    "print(y,z)"
   ]
  },
  {
   "cell_type": "markdown",
   "metadata": {},
   "source": [
    "## Operators\n",
    "\n",
    "In Python different operators are available. Let's have a look at some important ones in examples:"
   ]
  },
  {
   "cell_type": "code",
   "execution_count": 2,
   "metadata": {},
   "outputs": [
    {
     "name": "stdout",
     "output_type": "stream",
     "text": [
      "2.0\n",
      "4.0\n"
     ]
    }
   ],
   "source": [
    "# Addition, Substraktion, Multiplikation, Division\n",
    "y=3+2-2*3/2\n",
    "print(y)\n",
    "# Assignments \n",
    "#y+=2 is the same as y=y+2\n",
    "y+=2 \n",
    "print(y)"
   ]
  },
  {
   "cell_type": "code",
   "execution_count": null,
   "metadata": {},
   "outputs": [],
   "source": [
    "# Exponent, Remainder of Division, Floor Division\n",
    "y=3**3\n",
    "z=4%3\n",
    "x=4//3\n",
    "print(x,y,z)"
   ]
  },
  {
   "cell_type": "code",
   "execution_count": null,
   "metadata": {},
   "outputs": [],
   "source": [
    "#Comparison - Does not assign a value but compares 2 variables and give True or False\n",
    "x=5;y=6\n",
    "x==y\n",
    "x!=5\n",
    "x>y\n",
    "x<=y"
   ]
  },
  {
   "cell_type": "code",
   "execution_count": 1,
   "metadata": {},
   "outputs": [
    {
     "ename": "SyntaxError",
     "evalue": "invalid syntax (<ipython-input-1-b080ade61cb4>, line 2)",
     "output_type": "error",
     "traceback": [
      "\u001b[1;36m  File \u001b[1;32m\"<ipython-input-1-b080ade61cb4>\"\u001b[1;36m, line \u001b[1;32m2\u001b[0m\n\u001b[1;33m    x==y AND x>y\u001b[0m\n\u001b[1;37m           ^\u001b[0m\n\u001b[1;31mSyntaxError\u001b[0m\u001b[1;31m:\u001b[0m invalid syntax\n"
     ]
    }
   ],
   "source": [
    "#Logical Operators\n",
    "x==y AND x>y \n",
    "x==y OR x>y \n",
    "\n",
    "NOT:\n",
    "    x==y OR x>y "
   ]
  },
  {
   "cell_type": "code",
   "execution_count": null,
   "metadata": {},
   "outputs": [],
   "source": [
    "#Membership Operators give bool\n",
    "2 in (1,2,3) \n",
    "2 not in (1,2,3)"
   ]
  },
  {
   "cell_type": "markdown",
   "metadata": {},
   "source": [
    "Further Information and a full list can be found at the Documentation: https://docs.python.org/3.7/tutorial/introduction.html#"
   ]
  },
  {
   "cell_type": "markdown",
   "metadata": {},
   "source": [
    "## Fundamental data types\n",
    "\n",
    "Just Assign a Value and Python give it the right Data type."
   ]
  },
  {
   "cell_type": "markdown",
   "metadata": {},
   "source": [
    "Numeric type:\n",
    "\n",
    "|   \t| \t| \t|\n",
    "|-------\t|-----------------\t|---------\t|\n",
    "| list  \t| integer Numbers \t| x=2     \t|\n",
    "| tuple \t| float numbers   \t| x=2,5   \t|\n",
    "| complex \t| complex numbers \t| x= 1+2j \t|"
   ]
  },
  {
   "cell_type": "code",
   "execution_count": null,
   "metadata": {},
   "outputs": [],
   "source": [
    "# comments in Python are done with #\n",
    "'''variables may not begin with 0-9.\n",
    "case sensitive\n",
    "dynamic typing in Python -> types are assigned automatically'''\n",
    "x=2\n",
    "y=2.5\n",
    "z=1+2j\n",
    "\n"
   ]
  },
  {
   "cell_type": "code",
   "execution_count": null,
   "metadata": {},
   "outputs": [],
   "source": [
    "type(x)"
   ]
  },
  {
   "cell_type": "code",
   "execution_count": null,
   "metadata": {},
   "outputs": [],
   "source": [
    "type(y)"
   ]
  },
  {
   "cell_type": "code",
   "execution_count": null,
   "metadata": {},
   "outputs": [],
   "source": [
    "type(z)"
   ]
  },
  {
   "cell_type": "code",
   "execution_count": null,
   "metadata": {},
   "outputs": [],
   "source": [
    "# Delete Variables\n",
    "del x, y, z\n",
    "\n",
    "# Automatic garbage collection - normally no del necessary"
   ]
  },
  {
   "cell_type": "markdown",
   "metadata": {},
   "source": [
    "### Text Type\n",
    "\n",
    "Str for Text/String: x = \"Hello World\";"
   ]
  },
  {
   "cell_type": "code",
   "execution_count": 19,
   "metadata": {},
   "outputs": [
    {
     "data": {
      "text/plain": [
       "str"
      ]
     },
     "execution_count": 19,
     "metadata": {},
     "output_type": "execute_result"
    }
   ],
   "source": [
    "x=\"Hello World\"\n",
    "# is the same as\n",
    "x='Hello World'\n",
    "type(x)"
   ]
  },
  {
   "cell_type": "markdown",
   "metadata": {},
   "source": [
    "### Bool\n",
    "\n",
    "bool for logical Arguments True or False"
   ]
  },
  {
   "cell_type": "code",
   "execution_count": 3,
   "metadata": {},
   "outputs": [
    {
     "data": {
      "text/plain": [
       "bool"
      ]
     },
     "execution_count": 3,
     "metadata": {},
     "output_type": "execute_result"
    }
   ],
   "source": [
    "x=3 \n",
    "y=4\n",
    "z=x>y\n",
    "type(z)"
   ]
  },
  {
   "cell_type": "markdown",
   "metadata": {},
   "source": [
    "## Other data types: Sequence Type:\n",
    "\n",
    "|       \t|                 \t|         \t|\n",
    "|-------\t|-----------------\t|---------\t|\n",
    "| list     | Number of Elements (mutable)  | x=[2,\"Hello World\", 3j]     |\n",
    "| tuple \t| Number of Elements  (immutable) \t| y= (2,\"Hello\", 3j)   \t|"
   ]
  },
  {
   "cell_type": "code",
   "execution_count": 5,
   "metadata": {},
   "outputs": [],
   "source": [
    "x=[2,\"Hello World\", 3j]\n",
    "y= (2,\"Hello\", 3j)"
   ]
  },
  {
   "cell_type": "code",
   "execution_count": 6,
   "metadata": {},
   "outputs": [
    {
     "data": {
      "text/plain": [
       "tuple"
      ]
     },
     "execution_count": 6,
     "metadata": {},
     "output_type": "execute_result"
    }
   ],
   "source": [
    "type(x)\n",
    "type(y)\n"
   ]
  },
  {
   "cell_type": "markdown",
   "metadata": {},
   "source": [
    "## Difference between Tuple and List: mutable, immutable"
   ]
  },
  {
   "cell_type": "code",
   "execution_count": 7,
   "metadata": {},
   "outputs": [
    {
     "data": {
      "text/plain": [
       "[2, 'Hello World', 3j]"
      ]
     },
     "execution_count": 7,
     "metadata": {},
     "output_type": "execute_result"
    }
   ],
   "source": [
    "x[0] = 2\n",
    "x"
   ]
  },
  {
   "cell_type": "code",
   "execution_count": 10,
   "metadata": {},
   "outputs": [
    {
     "ename": "TypeError",
     "evalue": "'tuple' object does not support item assignment",
     "output_type": "error",
     "traceback": [
      "\u001b[1;31m---------------------------------------------------------------------------\u001b[0m",
      "\u001b[1;31mTypeError\u001b[0m                                 Traceback (most recent call last)",
      "\u001b[1;32m<ipython-input-10-ccf03d534a77>\u001b[0m in \u001b[0;36m<module>\u001b[1;34m\u001b[0m\n\u001b[1;32m----> 1\u001b[1;33m \u001b[0my\u001b[0m\u001b[1;33m[\u001b[0m\u001b[1;36m0\u001b[0m\u001b[1;33m]\u001b[0m\u001b[1;33m=\u001b[0m\u001b[1;36m2\u001b[0m\u001b[1;33m\u001b[0m\u001b[1;33m\u001b[0m\u001b[0m\n\u001b[0m",
      "\u001b[1;31mTypeError\u001b[0m: 'tuple' object does not support item assignment"
     ]
    }
   ],
   "source": [
    "y[0]=2"
   ]
  },
  {
   "cell_type": "markdown",
   "metadata": {},
   "source": [
    "### Other Data types:\n",
    "- dict\n",
    "- set, frozenset\n",
    "\n",
    "a good overview can be found at:\n",
    "\n",
    "https://docs.python.org/3/tutorial/introduction.html#using-python-as-a-calculator\n",
    "\n",
    "https://www.w3schools.com/python/python_datatypes.asp"
   ]
  },
  {
   "cell_type": "code",
   "execution_count": null,
   "metadata": {},
   "outputs": [],
   "source": []
  }
 ],
 "metadata": {
  "kernelspec": {
   "display_name": "Python 3",
   "language": "python",
   "name": "python3"
  },
  "language_info": {
   "codemirror_mode": {
    "name": "ipython",
    "version": 3
   },
   "file_extension": ".py",
   "mimetype": "text/x-python",
   "name": "python",
   "nbconvert_exporter": "python",
   "pygments_lexer": "ipython3",
   "version": "3.7.6"
  }
 },
 "nbformat": 4,
 "nbformat_minor": 4
}
