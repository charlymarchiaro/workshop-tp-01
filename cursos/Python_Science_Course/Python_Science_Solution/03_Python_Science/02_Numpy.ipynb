{
 "cells": [
  {
   "cell_type": "markdown",
   "metadata": {
    "pycharm": {
     "name": "#%% md\n"
    }
   },
   "source": [
    "# Numpy\n",
    "\n",
    "NumPy is the fundamental package for scientific computing in Python. \n",
    "Numpy is perfect for fast n-dimensional calculations. \n",
    "\n",
    "- Numpy Arrays (ndarray - Numpy array class) have a fixed size at creation\n",
    "- Same Data type in one array and operations\n",
    "- behind the scenes optimized, pre-compiled C code.\n",
    "- Absence of Loops (vectorized)\n",
    "- element-by-element behavior (broadcasting)\n",
    "\n",
    "Further Information - See Help Numpy reference"
   ]
  },
  {
   "cell_type": "code",
   "execution_count": 3,
   "metadata": {
    "pycharm": {
     "name": "#%%\n"
    }
   },
   "outputs": [],
   "source": [
    "import numpy as np"
   ]
  },
  {
   "cell_type": "markdown",
   "metadata": {
    "pycharm": {
     "name": "#%% md\n"
    }
   },
   "source": [
    "Lets start with creating an Array:\n",
    "$$\n",
    "   a= \\begin{pmatrix}\n",
    "    1 & 2 & 3 \\\\\n",
    "    1 & 2 & 3 \\\\\n",
    "    1 & 2 & 3 \\\\\n",
    "    \\end{pmatrix}\n",
    "$$"
   ]
  },
  {
   "cell_type": "code",
   "execution_count": 4,
   "metadata": {
    "pycharm": {
     "name": "#%%\n"
    }
   },
   "outputs": [],
   "source": [
    "a=np.array([(1,2,3), (1,2,3), (1,2,3)])"
   ]
  },
  {
   "cell_type": "code",
   "execution_count": 5,
   "metadata": {
    "pycharm": {
     "name": "#%%\n"
    }
   },
   "outputs": [
    {
     "data": {
      "text/plain": [
       "array([[1, 2, 3],\n",
       "       [1, 2, 3],\n",
       "       [1, 2, 3]])"
      ]
     },
     "execution_count": 5,
     "metadata": {},
     "output_type": "execute_result"
    }
   ],
   "source": [
    "a"
   ]
  },
  {
   "cell_type": "code",
   "execution_count": 6,
   "metadata": {
    "pycharm": {
     "name": "#%%\n"
    }
   },
   "outputs": [
    {
     "data": {
      "text/plain": [
       "9"
      ]
     },
     "execution_count": 6,
     "metadata": {},
     "output_type": "execute_result"
    }
   ],
   "source": [
    "a.size"
   ]
  },
  {
   "cell_type": "markdown",
   "metadata": {
    "pycharm": {
     "name": "#%% md\n"
    }
   },
   "source": [
    "## Basic Operations\n",
    "\n",
    "Elementwise behaviour:\n",
    "$$\n",
    "   b= \\begin{pmatrix}\n",
    "    1 & 2 & 3 \\\\\n",
    "    1 & 2 & 3 \\\\\n",
    "    1 & 2 & 3 \\\\\n",
    "    \\end{pmatrix} \n",
    "    \\cdot 2\n",
    "$$"
   ]
  },
  {
   "cell_type": "code",
   "execution_count": 7,
   "metadata": {
    "pycharm": {
     "name": "#%%\n"
    }
   },
   "outputs": [],
   "source": [
    "#Multiplication Elementwise\n",
    "b=a*2"
   ]
  },
  {
   "cell_type": "code",
   "execution_count": 8,
   "metadata": {
    "pycharm": {
     "name": "#%%\n"
    }
   },
   "outputs": [
    {
     "data": {
      "text/plain": [
       "array([[2, 4, 6],\n",
       "       [2, 4, 6],\n",
       "       [2, 4, 6]])"
      ]
     },
     "execution_count": 8,
     "metadata": {},
     "output_type": "execute_result"
    }
   ],
   "source": [
    "b"
   ]
  },
  {
   "cell_type": "markdown",
   "metadata": {
    "pycharm": {
     "name": "#%% md\n"
    }
   },
   "source": [
    "What happens when multiplying two matrizes?\n",
    "\n",
    "$$\n",
    "   c=a\\cdot b= \\begin{pmatrix}\n",
    "    2 & 4 & 6 \\\\\n",
    "    2 & 4 & 6 \\\\\n",
    "    2 & 4 & 6 \\\\\n",
    "    \\end{pmatrix} \n",
    "    \\cdot \n",
    "    \\begin{pmatrix}\n",
    "    2 & 4 & 6 \\\\\n",
    "    2 & 4 & 6 \\\\\n",
    "    2 & 4 & 6 \\\\\n",
    "    \\end{pmatrix} \n",
    "$$"
   ]
  },
  {
   "cell_type": "code",
   "execution_count": 9,
   "metadata": {
    "pycharm": {
     "name": "#%%\n"
    }
   },
   "outputs": [
    {
     "data": {
      "text/plain": [
       "array([[ 4, 16, 36],\n",
       "       [ 4, 16, 36],\n",
       "       [ 4, 16, 36]])"
      ]
     },
     "execution_count": 9,
     "metadata": {},
     "output_type": "execute_result"
    }
   ],
   "source": [
    "a=b\n",
    "a*b"
   ]
  },
  {
   "cell_type": "markdown",
   "metadata": {
    "pycharm": {
     "name": "#%% md\n"
    }
   },
   "source": [
    "Normally Operations are done Elementwise. \n",
    "But what about matrix product?\n",
    "\n",
    "$$\n",
    "   a\\cdot b= \\begin{pmatrix}\n",
    "    2 & 4 & 6 \\\\\n",
    "    2 & 4 & 6 \\\\\n",
    "    2 & 4 & 6 \\\\\n",
    "    \\end{pmatrix} \n",
    "    \\cdot \n",
    "    \\begin{pmatrix}\n",
    "    2 & 4 & 6 \\\\\n",
    "    2 & 4 & 6 \\\\\n",
    "    2 & 4 & 6 \\\\\n",
    "    \\end{pmatrix} \n",
    "    =\n",
    "    \\begin{pmatrix}\n",
    "    24 & 48 & 72 \\\\\n",
    "    24 & 48 & 72 \\\\\n",
    "    24 & 48 & 72 \\\\\n",
    "    \\end{pmatrix} \n",
    "$$"
   ]
  },
  {
   "cell_type": "code",
   "execution_count": 10,
   "metadata": {
    "pycharm": {
     "name": "#%%\n"
    }
   },
   "outputs": [
    {
     "data": {
      "text/plain": [
       "array([[24, 48, 72],\n",
       "       [24, 48, 72],\n",
       "       [24, 48, 72]])"
      ]
     },
     "execution_count": 10,
     "metadata": {},
     "output_type": "execute_result"
    }
   ],
   "source": [
    "a@b"
   ]
  },
  {
   "cell_type": "markdown",
   "metadata": {
    "pycharm": {
     "name": "#%% md\n"
    }
   },
   "source": [
    "Many other Operations are implemented as functions:\n",
    "Sum, Find minimium/maximum Value...\n"
   ]
  },
  {
   "cell_type": "code",
   "execution_count": 11,
   "metadata": {
    "pycharm": {
     "name": "#%%\n"
    }
   },
   "outputs": [
    {
     "data": {
      "text/plain": [
       "36"
      ]
     },
     "execution_count": 11,
     "metadata": {},
     "output_type": "execute_result"
    }
   ],
   "source": [
    "a.sum()"
   ]
  },
  {
   "cell_type": "code",
   "execution_count": 12,
   "metadata": {
    "pycharm": {
     "name": "#%%\n"
    }
   },
   "outputs": [
    {
     "data": {
      "text/plain": [
       "2"
      ]
     },
     "execution_count": 12,
     "metadata": {},
     "output_type": "execute_result"
    }
   ],
   "source": [
    "a.min()"
   ]
  },
  {
   "cell_type": "code",
   "execution_count": 13,
   "metadata": {
    "pycharm": {
     "name": "#%%\n"
    }
   },
   "outputs": [
    {
     "data": {
      "text/plain": [
       "6"
      ]
     },
     "execution_count": 13,
     "metadata": {},
     "output_type": "execute_result"
    }
   ],
   "source": [
    "a.max()"
   ]
  },
  {
   "cell_type": "markdown",
   "metadata": {
    "pycharm": {
     "name": "#%% md\n"
    }
   },
   "source": [
    "## Access Values from Arrays\n",
    "\n",
    "a[Row,Column]\n",
    "\n",
    "Array counting starts with 0\n",
    "\n",
    "With : all Values can be found\n",
    "\n"
   ]
  },
  {
   "cell_type": "code",
   "execution_count": 16,
   "metadata": {
    "pycharm": {
     "name": "#%%\n"
    }
   },
   "outputs": [
    {
     "data": {
      "text/plain": [
       "array([4, 4, 4])"
      ]
     },
     "execution_count": 16,
     "metadata": {},
     "output_type": "execute_result"
    }
   ],
   "source": [
    "a[:,-2]"
   ]
  },
  {
   "cell_type": "markdown",
   "metadata": {
    "pycharm": {
     "name": "#%% md\n"
    }
   },
   "source": [
    "Many more Operations can be conducted with arrays! Lets have another look at the Documentation"
   ]
  }
 ],
 "metadata": {
  "kernelspec": {
   "display_name": "Python 3",
   "language": "python",
   "name": "python3"
  },
  "language_info": {
   "codemirror_mode": {
    "name": "ipython",
    "version": 3
   },
   "file_extension": ".py",
   "mimetype": "text/x-python",
   "name": "python",
   "nbconvert_exporter": "python",
   "pygments_lexer": "ipython3",
   "version": "3.7.6"
  }
 },
 "nbformat": 4,
 "nbformat_minor": 4
}